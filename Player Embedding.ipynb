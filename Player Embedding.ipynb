{
 "cells": [
  {
   "cell_type": "code",
   "execution_count": 1,
   "metadata": {},
   "outputs": [],
   "source": [
    "import numpy as np\n",
    "import pandas as pd"
   ]
  },
  {
   "cell_type": "code",
   "execution_count": 2,
   "metadata": {},
   "outputs": [],
   "source": [
    "path = (\"C:/Users/Ong Jia Yi/Desktop/STUDY/Summer 2021\"\n",
    "        \"/Rotman MMA Summer 2021 Datathon\")\n",
    "\n",
    "# hereafter called 'the original dataframe'\n",
    "load = pd.read_csv(path + \"/NWHL.csv\")"
   ]
  },
  {
   "cell_type": "markdown",
   "metadata": {},
   "source": [
    "### DEFINITIONS\n",
    "1) \"outcomes\" is defined to be the end of a sequence of prior events that are of interest."
   ]
  },
  {
   "cell_type": "markdown",
   "metadata": {},
   "source": [
    "## Function - prior_events"
   ]
  },
  {
   "cell_type": "code",
   "execution_count": 3,
   "metadata": {},
   "outputs": [],
   "source": [
    "def prior_events(outcome_data):\n",
    "    \"\"\"Return a dataframe of the details of events that led to an outcome\n",
    "    of interest.\n",
    "    \n",
    "    Arguments:\n",
    "    outcome_data -- subset of the original Pandas DataFrame where\n",
    "                    the outcome(s) of interest occur.Indexes of <outcome_data>\n",
    "                    preserves that of the original dataframe.\n",
    "    Returns:\n",
    "    new_frame -- Pandas DataFrame containing info. on prior events.\n",
    "    \"\"\"\n",
    "    new_frame = []\n",
    "    for i in outcome_data.index:\n",
    "\n",
    "        new_row = []\n",
    "        for j in range(1, window_len+1):\n",
    "            last_event = load.loc[i-j, outcome_data.columns]\n",
    "            last_event = np.array(last_event)\n",
    "            new_row.append(last_event)\n",
    "        new_row = np.concatenate(new_row)\n",
    "\n",
    "        new_frame.append([new_row])\n",
    "    \n",
    "    new_frame = pd.DataFrame(np.concatenate(new_frame))\n",
    "    colnames = [\"{}_l{}\".format(name, i) for i in range(1, window_len+1) \\\n",
    "                for name in outcome_data.columns]\n",
    "    new_frame.columns = colnames\n",
    "    \n",
    "    return new_frame"
   ]
  },
  {
   "cell_type": "markdown",
   "metadata": {},
   "source": [
    "## Function - encode_player"
   ]
  },
  {
   "cell_type": "code",
   "execution_count": 4,
   "metadata": {},
   "outputs": [],
   "source": [
    "def encode_players(outcome_data, prior_events_data, all_players, window_len):\n",
    "    \"\"\"Encode the outcome player and prior event player(s) by their IDs,\n",
    "    which are their order of appearance in the original dataset.\n",
    "    \n",
    "    Arguments:\n",
    "    outcome_data -- subset of the original Pandas DataFrame where\n",
    "                    the outcome(s) of interest occur.\n",
    "    prior_events_data -- output from prior_events() function with \n",
    "                         the same <outcome_data> input.\n",
    "    all_players -- a Numpy array of all player names in the original \n",
    "                   dataset (no repetition).\n",
    "    window_len -- (int) the number of previous events to include.\n",
    "    \n",
    "    Returns:\n",
    "    player_encoded -- a Pandas DataFrame of the IDs of the player associated\n",
    "                      to the outcome and prior events.\n",
    "    \"\"\"\n",
    "    outcome_player = outcome_data.Player.reset_index(drop=True)\n",
    "    prior_players = prior_events_data.filter(regex=\"Player\").reset_index(drop=True)\n",
    "\n",
    "    merged = pd.concat([outcome_player, prior_players], ignore_index=True, axis=1)\n",
    "    \n",
    "    # plus one so ID starts at 1\n",
    "    players_encoded = merged.applymap(lambda x: np.where(x == all_players)[0][0] + 1)\n",
    "    \n",
    "    return players_encoded"
   ]
  },
  {
   "cell_type": "markdown",
   "metadata": {},
   "source": [
    "## Function - one_hot_encoder"
   ]
  },
  {
   "cell_type": "code",
   "execution_count": 5,
   "metadata": {},
   "outputs": [],
   "source": [
    "def one_hot_encoder(categories):\n",
    "    \"\"\"Creates a one-hot encoding for categorical data\n",
    "    e.g. name of event or name of player.\n",
    "    \n",
    "    Arguments:\n",
    "    categories -- Numpy array of all instances of the categorical data.\n",
    "    \n",
    "    Returns:\n",
    "    oh_dict -- dictionary that maps instance of categorical data to \n",
    "               a Numpy array of one-hot encoding integers.\n",
    "    \"\"\"\n",
    "    oh_mat = pd.get_dummies(categories)\n",
    "    \n",
    "    oh_dict = dict()\n",
    "    for cat in categories:\n",
    "        oh_dict[cat] = np.array(oh_mat.loc[:, cat])\n",
    "        \n",
    "    return oh_dict"
   ]
  },
  {
   "cell_type": "markdown",
   "metadata": {},
   "source": [
    "## Function - encode_events"
   ]
  },
  {
   "cell_type": "code",
   "execution_count": 6,
   "metadata": {},
   "outputs": [],
   "source": [
    "def encode_events(outcome_data, prior_events_data, event_oh, window_len):\n",
    "    \"\"\"Encode the outcome and prior event(s) by their IDs,\n",
    "    which are their order of appearance in the original dataset.\n",
    "    \n",
    "    Arguments:\n",
    "    outcome_data -- subset of the original Pandas DataFrame where\n",
    "                    the outcome(s) of interest occur.\n",
    "    prior_events_data -- output from prior_events() function with \n",
    "                         the same <outcome_data> input.\n",
    "    event_oh -- one-hot-encoding dictionary for events.\n",
    "    window_len -- (int) the number of previous events to include.\n",
    "    \n",
    "    Returns:\n",
    "    events_encoded -- a Pandas DataFrame of the IDs of the event associated\n",
    "                      to the outcome and prior events.\n",
    "    \"\"\"\n",
    "    outcome_events = outcome_data.Event.reset_index(drop=True)\n",
    "    outcome_events = pd.DataFrame(outcome_events).applymap(lambda x: event_oh[x])\n",
    "    \n",
    "    prior_events = prior_events_data.filter(regex=\"Event\").reset_index(drop=True)\n",
    "    prior_events = pd.DataFrame(prior_events).applymap(lambda x: event_oh[x])\n",
    "    \n",
    "    target_events_encoded = pd.DataFrame(outcome_events.iloc[:,0].to_list())\n",
    "    events_encoded = pd.DataFrame(prior_events.iloc[:,0].to_list())\n",
    "    \n",
    "    for i in range(1, prior_events.shape[1]):\n",
    "        prior_encoded_sub = pd.DataFrame(prior_events.iloc[:,i].to_list())\n",
    "        events_encoded = pd.concat([events_encoded, prior_encoded_sub], axis=1)\n",
    "    \n",
    "    \n",
    "    return target_events_encoded, events_encoded"
   ]
  },
  {
   "cell_type": "markdown",
   "metadata": {},
   "source": [
    "## Implementing functions"
   ]
  },
  {
   "cell_type": "code",
   "execution_count": 7,
   "metadata": {},
   "outputs": [],
   "source": [
    "# interested in events leading to outcomes of Shot/Goal\n",
    "outcomes_interest = [\"Shot\", \"Goal\"]\n",
    "\n",
    "# capture two prior events leading to outcome\n",
    "window_len = 2\n",
    "\n",
    "#  a list of variable names to describe prior events.\n",
    "detail_names = ['Period', 'Home Team Skaters', 'Away Team Skaters',\n",
    "                'X Coordinate', 'Y Coordinate', 'Player', 'Event']\n",
    "\n",
    "# Subset rows only with Event == Shot/Goal\n",
    "# Indexes of <outcome_data> preserves that of the original dataframe.\n",
    "outcome_data = load.loc[load.Event.isin(outcomes_interest), detail_names]"
   ]
  },
  {
   "cell_type": "code",
   "execution_count": 8,
   "metadata": {},
   "outputs": [
    {
     "data": {
      "text/html": [
       "<div>\n",
       "<style scoped>\n",
       "    .dataframe tbody tr th:only-of-type {\n",
       "        vertical-align: middle;\n",
       "    }\n",
       "\n",
       "    .dataframe tbody tr th {\n",
       "        vertical-align: top;\n",
       "    }\n",
       "\n",
       "    .dataframe thead th {\n",
       "        text-align: right;\n",
       "    }\n",
       "</style>\n",
       "<table border=\"1\" class=\"dataframe\">\n",
       "  <thead>\n",
       "    <tr style=\"text-align: right;\">\n",
       "      <th></th>\n",
       "      <th>Period_l1</th>\n",
       "      <th>Home Team Skaters_l1</th>\n",
       "      <th>Away Team Skaters_l1</th>\n",
       "      <th>X Coordinate_l1</th>\n",
       "      <th>Y Coordinate_l1</th>\n",
       "      <th>Player_l1</th>\n",
       "      <th>Event_l1</th>\n",
       "      <th>Period_l2</th>\n",
       "      <th>Home Team Skaters_l2</th>\n",
       "      <th>Away Team Skaters_l2</th>\n",
       "      <th>X Coordinate_l2</th>\n",
       "      <th>Y Coordinate_l2</th>\n",
       "      <th>Player_l2</th>\n",
       "      <th>Event_l2</th>\n",
       "    </tr>\n",
       "  </thead>\n",
       "  <tbody>\n",
       "    <tr>\n",
       "      <th>0</th>\n",
       "      <td>1</td>\n",
       "      <td>5</td>\n",
       "      <td>5</td>\n",
       "      <td>125</td>\n",
       "      <td>28</td>\n",
       "      <td>McKenna Brand</td>\n",
       "      <td>Zone Entry</td>\n",
       "      <td>1</td>\n",
       "      <td>5</td>\n",
       "      <td>5</td>\n",
       "      <td>107</td>\n",
       "      <td>40</td>\n",
       "      <td>McKenna Brand</td>\n",
       "      <td>Puck Recovery</td>\n",
       "    </tr>\n",
       "    <tr>\n",
       "      <th>1</th>\n",
       "      <td>1</td>\n",
       "      <td>5</td>\n",
       "      <td>5</td>\n",
       "      <td>124</td>\n",
       "      <td>2</td>\n",
       "      <td>Allie Thunstrom</td>\n",
       "      <td>Zone Entry</td>\n",
       "      <td>1</td>\n",
       "      <td>5</td>\n",
       "      <td>5</td>\n",
       "      <td>112</td>\n",
       "      <td>0</td>\n",
       "      <td>Allie Thunstrom</td>\n",
       "      <td>Takeaway</td>\n",
       "    </tr>\n",
       "    <tr>\n",
       "      <th>2</th>\n",
       "      <td>1</td>\n",
       "      <td>5</td>\n",
       "      <td>5</td>\n",
       "      <td>168</td>\n",
       "      <td>10</td>\n",
       "      <td>Allie Thunstrom</td>\n",
       "      <td>Play</td>\n",
       "      <td>1</td>\n",
       "      <td>5</td>\n",
       "      <td>5</td>\n",
       "      <td>124</td>\n",
       "      <td>20</td>\n",
       "      <td>Nina Rodgers</td>\n",
       "      <td>Zone Entry</td>\n",
       "    </tr>\n",
       "    <tr>\n",
       "      <th>3</th>\n",
       "      <td>1</td>\n",
       "      <td>5</td>\n",
       "      <td>5</td>\n",
       "      <td>135</td>\n",
       "      <td>52</td>\n",
       "      <td>Jillian Dempsey</td>\n",
       "      <td>Play</td>\n",
       "      <td>1</td>\n",
       "      <td>5</td>\n",
       "      <td>5</td>\n",
       "      <td>125</td>\n",
       "      <td>70</td>\n",
       "      <td>Jillian Dempsey</td>\n",
       "      <td>Zone Entry</td>\n",
       "    </tr>\n",
       "    <tr>\n",
       "      <th>4</th>\n",
       "      <td>1</td>\n",
       "      <td>5</td>\n",
       "      <td>5</td>\n",
       "      <td>196</td>\n",
       "      <td>20</td>\n",
       "      <td>Lauren Kelly</td>\n",
       "      <td>Puck Recovery</td>\n",
       "      <td>1</td>\n",
       "      <td>5</td>\n",
       "      <td>5</td>\n",
       "      <td>174</td>\n",
       "      <td>82</td>\n",
       "      <td>Jillian Dempsey</td>\n",
       "      <td>Incomplete Play</td>\n",
       "    </tr>\n",
       "  </tbody>\n",
       "</table>\n",
       "</div>"
      ],
      "text/plain": [
       "  Period_l1 Home Team Skaters_l1 Away Team Skaters_l1 X Coordinate_l1  \\\n",
       "0         1                    5                    5             125   \n",
       "1         1                    5                    5             124   \n",
       "2         1                    5                    5             168   \n",
       "3         1                    5                    5             135   \n",
       "4         1                    5                    5             196   \n",
       "\n",
       "  Y Coordinate_l1        Player_l1       Event_l1 Period_l2  \\\n",
       "0              28    McKenna Brand     Zone Entry         1   \n",
       "1               2  Allie Thunstrom     Zone Entry         1   \n",
       "2              10  Allie Thunstrom           Play         1   \n",
       "3              52  Jillian Dempsey           Play         1   \n",
       "4              20     Lauren Kelly  Puck Recovery         1   \n",
       "\n",
       "  Home Team Skaters_l2 Away Team Skaters_l2 X Coordinate_l2 Y Coordinate_l2  \\\n",
       "0                    5                    5             107              40   \n",
       "1                    5                    5             112               0   \n",
       "2                    5                    5             124              20   \n",
       "3                    5                    5             125              70   \n",
       "4                    5                    5             174              82   \n",
       "\n",
       "         Player_l2         Event_l2  \n",
       "0    McKenna Brand    Puck Recovery  \n",
       "1  Allie Thunstrom         Takeaway  \n",
       "2     Nina Rodgers       Zone Entry  \n",
       "3  Jillian Dempsey       Zone Entry  \n",
       "4  Jillian Dempsey  Incomplete Play  "
      ]
     },
     "execution_count": 8,
     "metadata": {},
     "output_type": "execute_result"
    }
   ],
   "source": [
    "prior_events_data = prior_events(outcome_data)\n",
    "prior_events_data.head()"
   ]
  },
  {
   "cell_type": "code",
   "execution_count": 9,
   "metadata": {},
   "outputs": [
    {
     "data": {
      "text/html": [
       "<div>\n",
       "<style scoped>\n",
       "    .dataframe tbody tr th:only-of-type {\n",
       "        vertical-align: middle;\n",
       "    }\n",
       "\n",
       "    .dataframe tbody tr th {\n",
       "        vertical-align: top;\n",
       "    }\n",
       "\n",
       "    .dataframe thead th {\n",
       "        text-align: right;\n",
       "    }\n",
       "</style>\n",
       "<table border=\"1\" class=\"dataframe\">\n",
       "  <thead>\n",
       "    <tr style=\"text-align: right;\">\n",
       "      <th></th>\n",
       "      <th>0</th>\n",
       "      <th>1</th>\n",
       "      <th>2</th>\n",
       "    </tr>\n",
       "  </thead>\n",
       "  <tbody>\n",
       "    <tr>\n",
       "      <th>0</th>\n",
       "      <td>2</td>\n",
       "      <td>2</td>\n",
       "      <td>2</td>\n",
       "    </tr>\n",
       "    <tr>\n",
       "      <th>1</th>\n",
       "      <td>11</td>\n",
       "      <td>11</td>\n",
       "      <td>11</td>\n",
       "    </tr>\n",
       "    <tr>\n",
       "      <th>2</th>\n",
       "      <td>13</td>\n",
       "      <td>11</td>\n",
       "      <td>13</td>\n",
       "    </tr>\n",
       "    <tr>\n",
       "      <th>3</th>\n",
       "      <td>2</td>\n",
       "      <td>1</td>\n",
       "      <td>1</td>\n",
       "    </tr>\n",
       "    <tr>\n",
       "      <th>4</th>\n",
       "      <td>19</td>\n",
       "      <td>19</td>\n",
       "      <td>1</td>\n",
       "    </tr>\n",
       "  </tbody>\n",
       "</table>\n",
       "</div>"
      ],
      "text/plain": [
       "    0   1   2\n",
       "0   2   2   2\n",
       "1  11  11  11\n",
       "2  13  11  13\n",
       "3   2   1   1\n",
       "4  19  19   1"
      ]
     },
     "execution_count": 9,
     "metadata": {},
     "output_type": "execute_result"
    }
   ],
   "source": [
    "encoded_players = encode_players(outcome_data, prior_events_data, load.Player.unique(), window_len)\n",
    "encoded_players.head()"
   ]
  },
  {
   "cell_type": "code",
   "execution_count": 10,
   "metadata": {},
   "outputs": [
    {
     "data": {
      "text/plain": [
       "array([0, 0, 0, 1, 0, 0, 0, 0, 0, 0], dtype=uint8)"
      ]
     },
     "execution_count": 10,
     "metadata": {},
     "output_type": "execute_result"
    }
   ],
   "source": [
    "event_oh = one_hot_encoder(load.Event.unique())\n",
    "event_oh[\"Shot\"]"
   ]
  },
  {
   "cell_type": "code",
   "execution_count": 11,
   "metadata": {},
   "outputs": [
    {
     "data": {
      "text/plain": [
       "array(['Faceoff Win', 'Puck Recovery', 'Zone Entry', 'Shot', 'Play',\n",
       "       'Takeaway', 'Dump In/Out', 'Incomplete Play', 'Penalty Taken',\n",
       "       'Goal'], dtype=object)"
      ]
     },
     "execution_count": 11,
     "metadata": {},
     "output_type": "execute_result"
    }
   ],
   "source": [
    "load.Event.unique()"
   ]
  },
  {
   "cell_type": "code",
   "execution_count": 12,
   "metadata": {
    "scrolled": true
   },
   "outputs": [
    {
     "data": {
      "text/html": [
       "<div>\n",
       "<style scoped>\n",
       "    .dataframe tbody tr th:only-of-type {\n",
       "        vertical-align: middle;\n",
       "    }\n",
       "\n",
       "    .dataframe tbody tr th {\n",
       "        vertical-align: top;\n",
       "    }\n",
       "\n",
       "    .dataframe thead th {\n",
       "        text-align: right;\n",
       "    }\n",
       "</style>\n",
       "<table border=\"1\" class=\"dataframe\">\n",
       "  <thead>\n",
       "    <tr style=\"text-align: right;\">\n",
       "      <th></th>\n",
       "      <th>0</th>\n",
       "      <th>1</th>\n",
       "      <th>2</th>\n",
       "      <th>3</th>\n",
       "      <th>4</th>\n",
       "      <th>5</th>\n",
       "      <th>6</th>\n",
       "      <th>7</th>\n",
       "      <th>8</th>\n",
       "      <th>9</th>\n",
       "      <th>0</th>\n",
       "      <th>1</th>\n",
       "      <th>2</th>\n",
       "      <th>3</th>\n",
       "      <th>4</th>\n",
       "      <th>5</th>\n",
       "      <th>6</th>\n",
       "      <th>7</th>\n",
       "      <th>8</th>\n",
       "      <th>9</th>\n",
       "    </tr>\n",
       "  </thead>\n",
       "  <tbody>\n",
       "    <tr>\n",
       "      <th>0</th>\n",
       "      <td>0</td>\n",
       "      <td>0</td>\n",
       "      <td>1</td>\n",
       "      <td>0</td>\n",
       "      <td>0</td>\n",
       "      <td>0</td>\n",
       "      <td>0</td>\n",
       "      <td>0</td>\n",
       "      <td>0</td>\n",
       "      <td>0</td>\n",
       "      <td>0</td>\n",
       "      <td>1</td>\n",
       "      <td>0</td>\n",
       "      <td>0</td>\n",
       "      <td>0</td>\n",
       "      <td>0</td>\n",
       "      <td>0</td>\n",
       "      <td>0</td>\n",
       "      <td>0</td>\n",
       "      <td>0</td>\n",
       "    </tr>\n",
       "    <tr>\n",
       "      <th>1</th>\n",
       "      <td>0</td>\n",
       "      <td>0</td>\n",
       "      <td>1</td>\n",
       "      <td>0</td>\n",
       "      <td>0</td>\n",
       "      <td>0</td>\n",
       "      <td>0</td>\n",
       "      <td>0</td>\n",
       "      <td>0</td>\n",
       "      <td>0</td>\n",
       "      <td>0</td>\n",
       "      <td>0</td>\n",
       "      <td>0</td>\n",
       "      <td>0</td>\n",
       "      <td>0</td>\n",
       "      <td>1</td>\n",
       "      <td>0</td>\n",
       "      <td>0</td>\n",
       "      <td>0</td>\n",
       "      <td>0</td>\n",
       "    </tr>\n",
       "    <tr>\n",
       "      <th>2</th>\n",
       "      <td>0</td>\n",
       "      <td>0</td>\n",
       "      <td>0</td>\n",
       "      <td>0</td>\n",
       "      <td>1</td>\n",
       "      <td>0</td>\n",
       "      <td>0</td>\n",
       "      <td>0</td>\n",
       "      <td>0</td>\n",
       "      <td>0</td>\n",
       "      <td>0</td>\n",
       "      <td>0</td>\n",
       "      <td>1</td>\n",
       "      <td>0</td>\n",
       "      <td>0</td>\n",
       "      <td>0</td>\n",
       "      <td>0</td>\n",
       "      <td>0</td>\n",
       "      <td>0</td>\n",
       "      <td>0</td>\n",
       "    </tr>\n",
       "    <tr>\n",
       "      <th>3</th>\n",
       "      <td>0</td>\n",
       "      <td>0</td>\n",
       "      <td>0</td>\n",
       "      <td>0</td>\n",
       "      <td>1</td>\n",
       "      <td>0</td>\n",
       "      <td>0</td>\n",
       "      <td>0</td>\n",
       "      <td>0</td>\n",
       "      <td>0</td>\n",
       "      <td>0</td>\n",
       "      <td>0</td>\n",
       "      <td>1</td>\n",
       "      <td>0</td>\n",
       "      <td>0</td>\n",
       "      <td>0</td>\n",
       "      <td>0</td>\n",
       "      <td>0</td>\n",
       "      <td>0</td>\n",
       "      <td>0</td>\n",
       "    </tr>\n",
       "    <tr>\n",
       "      <th>4</th>\n",
       "      <td>0</td>\n",
       "      <td>1</td>\n",
       "      <td>0</td>\n",
       "      <td>0</td>\n",
       "      <td>0</td>\n",
       "      <td>0</td>\n",
       "      <td>0</td>\n",
       "      <td>0</td>\n",
       "      <td>0</td>\n",
       "      <td>0</td>\n",
       "      <td>0</td>\n",
       "      <td>0</td>\n",
       "      <td>0</td>\n",
       "      <td>0</td>\n",
       "      <td>0</td>\n",
       "      <td>0</td>\n",
       "      <td>0</td>\n",
       "      <td>1</td>\n",
       "      <td>0</td>\n",
       "      <td>0</td>\n",
       "    </tr>\n",
       "  </tbody>\n",
       "</table>\n",
       "</div>"
      ],
      "text/plain": [
       "   0  1  2  3  4  5  6  7  8  9  0  1  2  3  4  5  6  7  8  9\n",
       "0  0  0  1  0  0  0  0  0  0  0  0  1  0  0  0  0  0  0  0  0\n",
       "1  0  0  1  0  0  0  0  0  0  0  0  0  0  0  0  1  0  0  0  0\n",
       "2  0  0  0  0  1  0  0  0  0  0  0  0  1  0  0  0  0  0  0  0\n",
       "3  0  0  0  0  1  0  0  0  0  0  0  0  1  0  0  0  0  0  0  0\n",
       "4  0  1  0  0  0  0  0  0  0  0  0  0  0  0  0  0  0  1  0  0"
      ]
     },
     "execution_count": 12,
     "metadata": {},
     "output_type": "execute_result"
    }
   ],
   "source": [
    "target_encoded_events, encoded_events = encode_events(outcome_data, prior_events_data, event_oh, window_len)\n",
    "encoded_events.head()"
   ]
  },
  {
   "cell_type": "markdown",
   "metadata": {},
   "source": [
    "## Finalize data"
   ]
  },
  {
   "cell_type": "markdown",
   "metadata": {},
   "source": [
    "### Event data"
   ]
  },
  {
   "cell_type": "code",
   "execution_count": 13,
   "metadata": {},
   "outputs": [
    {
     "data": {
      "text/html": [
       "<div>\n",
       "<style scoped>\n",
       "    .dataframe tbody tr th:only-of-type {\n",
       "        vertical-align: middle;\n",
       "    }\n",
       "\n",
       "    .dataframe tbody tr th {\n",
       "        vertical-align: top;\n",
       "    }\n",
       "\n",
       "    .dataframe thead th {\n",
       "        text-align: right;\n",
       "    }\n",
       "</style>\n",
       "<table border=\"1\" class=\"dataframe\">\n",
       "  <thead>\n",
       "    <tr style=\"text-align: right;\">\n",
       "      <th></th>\n",
       "      <th>Period</th>\n",
       "      <th>Home Team Skaters</th>\n",
       "      <th>Away Team Skaters</th>\n",
       "      <th>X Coordinate</th>\n",
       "      <th>Y Coordinate</th>\n",
       "    </tr>\n",
       "  </thead>\n",
       "  <tbody>\n",
       "    <tr>\n",
       "      <th>0</th>\n",
       "      <td>1</td>\n",
       "      <td>5</td>\n",
       "      <td>5</td>\n",
       "      <td>131</td>\n",
       "      <td>28</td>\n",
       "    </tr>\n",
       "    <tr>\n",
       "      <th>1</th>\n",
       "      <td>1</td>\n",
       "      <td>5</td>\n",
       "      <td>5</td>\n",
       "      <td>162</td>\n",
       "      <td>2</td>\n",
       "    </tr>\n",
       "    <tr>\n",
       "      <th>2</th>\n",
       "      <td>1</td>\n",
       "      <td>5</td>\n",
       "      <td>5</td>\n",
       "      <td>167</td>\n",
       "      <td>18</td>\n",
       "    </tr>\n",
       "    <tr>\n",
       "      <th>3</th>\n",
       "      <td>1</td>\n",
       "      <td>5</td>\n",
       "      <td>5</td>\n",
       "      <td>175</td>\n",
       "      <td>68</td>\n",
       "    </tr>\n",
       "    <tr>\n",
       "      <th>4</th>\n",
       "      <td>1</td>\n",
       "      <td>5</td>\n",
       "      <td>5</td>\n",
       "      <td>196</td>\n",
       "      <td>20</td>\n",
       "    </tr>\n",
       "  </tbody>\n",
       "</table>\n",
       "</div>"
      ],
      "text/plain": [
       "   Period  Home Team Skaters  Away Team Skaters  X Coordinate  Y Coordinate\n",
       "0       1                  5                  5           131            28\n",
       "1       1                  5                  5           162             2\n",
       "2       1                  5                  5           167            18\n",
       "3       1                  5                  5           175            68\n",
       "4       1                  5                  5           196            20"
      ]
     },
     "execution_count": 13,
     "metadata": {},
     "output_type": "execute_result"
    }
   ],
   "source": [
    "final_event_data_1 = outcome_data.drop([\"Player\", \"Event\"], axis=1)\n",
    "final_event_data_1 = final_event_data_1.reset_index(drop=True)\n",
    "final_event_data_1.head()"
   ]
  },
  {
   "cell_type": "code",
   "execution_count": 14,
   "metadata": {},
   "outputs": [
    {
     "data": {
      "text/html": [
       "<div>\n",
       "<style scoped>\n",
       "    .dataframe tbody tr th:only-of-type {\n",
       "        vertical-align: middle;\n",
       "    }\n",
       "\n",
       "    .dataframe tbody tr th {\n",
       "        vertical-align: top;\n",
       "    }\n",
       "\n",
       "    .dataframe thead th {\n",
       "        text-align: right;\n",
       "    }\n",
       "</style>\n",
       "<table border=\"1\" class=\"dataframe\">\n",
       "  <thead>\n",
       "    <tr style=\"text-align: right;\">\n",
       "      <th></th>\n",
       "      <th>Period_l1</th>\n",
       "      <th>Home Team Skaters_l1</th>\n",
       "      <th>Away Team Skaters_l1</th>\n",
       "      <th>X Coordinate_l1</th>\n",
       "      <th>Y Coordinate_l1</th>\n",
       "      <th>Period_l2</th>\n",
       "      <th>Home Team Skaters_l2</th>\n",
       "      <th>Away Team Skaters_l2</th>\n",
       "      <th>X Coordinate_l2</th>\n",
       "      <th>Y Coordinate_l2</th>\n",
       "    </tr>\n",
       "  </thead>\n",
       "  <tbody>\n",
       "    <tr>\n",
       "      <th>0</th>\n",
       "      <td>1</td>\n",
       "      <td>5</td>\n",
       "      <td>5</td>\n",
       "      <td>125</td>\n",
       "      <td>28</td>\n",
       "      <td>1</td>\n",
       "      <td>5</td>\n",
       "      <td>5</td>\n",
       "      <td>107</td>\n",
       "      <td>40</td>\n",
       "    </tr>\n",
       "    <tr>\n",
       "      <th>1</th>\n",
       "      <td>1</td>\n",
       "      <td>5</td>\n",
       "      <td>5</td>\n",
       "      <td>124</td>\n",
       "      <td>2</td>\n",
       "      <td>1</td>\n",
       "      <td>5</td>\n",
       "      <td>5</td>\n",
       "      <td>112</td>\n",
       "      <td>0</td>\n",
       "    </tr>\n",
       "    <tr>\n",
       "      <th>2</th>\n",
       "      <td>1</td>\n",
       "      <td>5</td>\n",
       "      <td>5</td>\n",
       "      <td>168</td>\n",
       "      <td>10</td>\n",
       "      <td>1</td>\n",
       "      <td>5</td>\n",
       "      <td>5</td>\n",
       "      <td>124</td>\n",
       "      <td>20</td>\n",
       "    </tr>\n",
       "    <tr>\n",
       "      <th>3</th>\n",
       "      <td>1</td>\n",
       "      <td>5</td>\n",
       "      <td>5</td>\n",
       "      <td>135</td>\n",
       "      <td>52</td>\n",
       "      <td>1</td>\n",
       "      <td>5</td>\n",
       "      <td>5</td>\n",
       "      <td>125</td>\n",
       "      <td>70</td>\n",
       "    </tr>\n",
       "    <tr>\n",
       "      <th>4</th>\n",
       "      <td>1</td>\n",
       "      <td>5</td>\n",
       "      <td>5</td>\n",
       "      <td>196</td>\n",
       "      <td>20</td>\n",
       "      <td>1</td>\n",
       "      <td>5</td>\n",
       "      <td>5</td>\n",
       "      <td>174</td>\n",
       "      <td>82</td>\n",
       "    </tr>\n",
       "  </tbody>\n",
       "</table>\n",
       "</div>"
      ],
      "text/plain": [
       "  Period_l1 Home Team Skaters_l1 Away Team Skaters_l1 X Coordinate_l1  \\\n",
       "0         1                    5                    5             125   \n",
       "1         1                    5                    5             124   \n",
       "2         1                    5                    5             168   \n",
       "3         1                    5                    5             135   \n",
       "4         1                    5                    5             196   \n",
       "\n",
       "  Y Coordinate_l1 Period_l2 Home Team Skaters_l2 Away Team Skaters_l2  \\\n",
       "0              28         1                    5                    5   \n",
       "1               2         1                    5                    5   \n",
       "2              10         1                    5                    5   \n",
       "3              52         1                    5                    5   \n",
       "4              20         1                    5                    5   \n",
       "\n",
       "  X Coordinate_l2 Y Coordinate_l2  \n",
       "0             107              40  \n",
       "1             112               0  \n",
       "2             124              20  \n",
       "3             125              70  \n",
       "4             174              82  "
      ]
     },
     "execution_count": 14,
     "metadata": {},
     "output_type": "execute_result"
    }
   ],
   "source": [
    "final_event_data_2 = prior_events_data.drop(list(prior_events_data.filter(regex=\"Event|Player\")), axis=1)\n",
    "final_event_data_2 = final_event_data_2.reset_index(drop=True)\n",
    "final_event_data_2.head()"
   ]
  },
  {
   "cell_type": "code",
   "execution_count": 15,
   "metadata": {
    "scrolled": true
   },
   "outputs": [
    {
     "data": {
      "text/html": [
       "<div>\n",
       "<style scoped>\n",
       "    .dataframe tbody tr th:only-of-type {\n",
       "        vertical-align: middle;\n",
       "    }\n",
       "\n",
       "    .dataframe tbody tr th {\n",
       "        vertical-align: top;\n",
       "    }\n",
       "\n",
       "    .dataframe thead th {\n",
       "        text-align: right;\n",
       "    }\n",
       "</style>\n",
       "<table border=\"1\" class=\"dataframe\">\n",
       "  <thead>\n",
       "    <tr style=\"text-align: right;\">\n",
       "      <th></th>\n",
       "      <th>0</th>\n",
       "      <th>1</th>\n",
       "      <th>2</th>\n",
       "      <th>3</th>\n",
       "      <th>4</th>\n",
       "      <th>5</th>\n",
       "      <th>6</th>\n",
       "      <th>7</th>\n",
       "      <th>8</th>\n",
       "      <th>9</th>\n",
       "      <th>...</th>\n",
       "      <th>25</th>\n",
       "      <th>26</th>\n",
       "      <th>27</th>\n",
       "      <th>28</th>\n",
       "      <th>29</th>\n",
       "      <th>30</th>\n",
       "      <th>31</th>\n",
       "      <th>32</th>\n",
       "      <th>33</th>\n",
       "      <th>34</th>\n",
       "    </tr>\n",
       "  </thead>\n",
       "  <tbody>\n",
       "    <tr>\n",
       "      <th>0</th>\n",
       "      <td>0</td>\n",
       "      <td>0</td>\n",
       "      <td>1</td>\n",
       "      <td>0</td>\n",
       "      <td>0</td>\n",
       "      <td>0</td>\n",
       "      <td>0</td>\n",
       "      <td>0</td>\n",
       "      <td>0</td>\n",
       "      <td>0</td>\n",
       "      <td>...</td>\n",
       "      <td>1</td>\n",
       "      <td>5</td>\n",
       "      <td>5</td>\n",
       "      <td>125</td>\n",
       "      <td>28</td>\n",
       "      <td>1</td>\n",
       "      <td>5</td>\n",
       "      <td>5</td>\n",
       "      <td>107</td>\n",
       "      <td>40</td>\n",
       "    </tr>\n",
       "    <tr>\n",
       "      <th>1</th>\n",
       "      <td>0</td>\n",
       "      <td>0</td>\n",
       "      <td>1</td>\n",
       "      <td>0</td>\n",
       "      <td>0</td>\n",
       "      <td>0</td>\n",
       "      <td>0</td>\n",
       "      <td>0</td>\n",
       "      <td>0</td>\n",
       "      <td>0</td>\n",
       "      <td>...</td>\n",
       "      <td>1</td>\n",
       "      <td>5</td>\n",
       "      <td>5</td>\n",
       "      <td>124</td>\n",
       "      <td>2</td>\n",
       "      <td>1</td>\n",
       "      <td>5</td>\n",
       "      <td>5</td>\n",
       "      <td>112</td>\n",
       "      <td>0</td>\n",
       "    </tr>\n",
       "    <tr>\n",
       "      <th>2</th>\n",
       "      <td>0</td>\n",
       "      <td>0</td>\n",
       "      <td>0</td>\n",
       "      <td>0</td>\n",
       "      <td>1</td>\n",
       "      <td>0</td>\n",
       "      <td>0</td>\n",
       "      <td>0</td>\n",
       "      <td>0</td>\n",
       "      <td>0</td>\n",
       "      <td>...</td>\n",
       "      <td>1</td>\n",
       "      <td>5</td>\n",
       "      <td>5</td>\n",
       "      <td>168</td>\n",
       "      <td>10</td>\n",
       "      <td>1</td>\n",
       "      <td>5</td>\n",
       "      <td>5</td>\n",
       "      <td>124</td>\n",
       "      <td>20</td>\n",
       "    </tr>\n",
       "    <tr>\n",
       "      <th>3</th>\n",
       "      <td>0</td>\n",
       "      <td>0</td>\n",
       "      <td>0</td>\n",
       "      <td>0</td>\n",
       "      <td>1</td>\n",
       "      <td>0</td>\n",
       "      <td>0</td>\n",
       "      <td>0</td>\n",
       "      <td>0</td>\n",
       "      <td>0</td>\n",
       "      <td>...</td>\n",
       "      <td>1</td>\n",
       "      <td>5</td>\n",
       "      <td>5</td>\n",
       "      <td>135</td>\n",
       "      <td>52</td>\n",
       "      <td>1</td>\n",
       "      <td>5</td>\n",
       "      <td>5</td>\n",
       "      <td>125</td>\n",
       "      <td>70</td>\n",
       "    </tr>\n",
       "    <tr>\n",
       "      <th>4</th>\n",
       "      <td>0</td>\n",
       "      <td>1</td>\n",
       "      <td>0</td>\n",
       "      <td>0</td>\n",
       "      <td>0</td>\n",
       "      <td>0</td>\n",
       "      <td>0</td>\n",
       "      <td>0</td>\n",
       "      <td>0</td>\n",
       "      <td>0</td>\n",
       "      <td>...</td>\n",
       "      <td>1</td>\n",
       "      <td>5</td>\n",
       "      <td>5</td>\n",
       "      <td>196</td>\n",
       "      <td>20</td>\n",
       "      <td>1</td>\n",
       "      <td>5</td>\n",
       "      <td>5</td>\n",
       "      <td>174</td>\n",
       "      <td>82</td>\n",
       "    </tr>\n",
       "  </tbody>\n",
       "</table>\n",
       "<p>5 rows × 35 columns</p>\n",
       "</div>"
      ],
      "text/plain": [
       "   0   1   2   3   4   5   6   7   8   9   ...  25  26  27   28  29  30  31  \\\n",
       "0   0   0   1   0   0   0   0   0   0   0  ...   1   5   5  125  28   1   5   \n",
       "1   0   0   1   0   0   0   0   0   0   0  ...   1   5   5  124   2   1   5   \n",
       "2   0   0   0   0   1   0   0   0   0   0  ...   1   5   5  168  10   1   5   \n",
       "3   0   0   0   0   1   0   0   0   0   0  ...   1   5   5  135  52   1   5   \n",
       "4   0   1   0   0   0   0   0   0   0   0  ...   1   5   5  196  20   1   5   \n",
       "\n",
       "   32   33  34  \n",
       "0   5  107  40  \n",
       "1   5  112   0  \n",
       "2   5  124  20  \n",
       "3   5  125  70  \n",
       "4   5  174  82  \n",
       "\n",
       "[5 rows x 35 columns]"
      ]
     },
     "execution_count": 15,
     "metadata": {},
     "output_type": "execute_result"
    }
   ],
   "source": [
    "final_event_data = pd.concat([encoded_events, final_event_data_1, final_event_data_2], ignore_index=True, axis=1)\n",
    "final_event_data.head()"
   ]
  },
  {
   "cell_type": "markdown",
   "metadata": {},
   "source": [
    "### Player data"
   ]
  },
  {
   "cell_type": "code",
   "execution_count": 16,
   "metadata": {},
   "outputs": [
    {
     "data": {
      "text/html": [
       "<div>\n",
       "<style scoped>\n",
       "    .dataframe tbody tr th:only-of-type {\n",
       "        vertical-align: middle;\n",
       "    }\n",
       "\n",
       "    .dataframe tbody tr th {\n",
       "        vertical-align: top;\n",
       "    }\n",
       "\n",
       "    .dataframe thead th {\n",
       "        text-align: right;\n",
       "    }\n",
       "</style>\n",
       "<table border=\"1\" class=\"dataframe\">\n",
       "  <thead>\n",
       "    <tr style=\"text-align: right;\">\n",
       "      <th></th>\n",
       "      <th>0</th>\n",
       "      <th>1</th>\n",
       "      <th>2</th>\n",
       "    </tr>\n",
       "  </thead>\n",
       "  <tbody>\n",
       "    <tr>\n",
       "      <th>0</th>\n",
       "      <td>2</td>\n",
       "      <td>2</td>\n",
       "      <td>2</td>\n",
       "    </tr>\n",
       "    <tr>\n",
       "      <th>1</th>\n",
       "      <td>11</td>\n",
       "      <td>11</td>\n",
       "      <td>11</td>\n",
       "    </tr>\n",
       "    <tr>\n",
       "      <th>2</th>\n",
       "      <td>13</td>\n",
       "      <td>11</td>\n",
       "      <td>13</td>\n",
       "    </tr>\n",
       "    <tr>\n",
       "      <th>3</th>\n",
       "      <td>2</td>\n",
       "      <td>1</td>\n",
       "      <td>1</td>\n",
       "    </tr>\n",
       "    <tr>\n",
       "      <th>4</th>\n",
       "      <td>19</td>\n",
       "      <td>19</td>\n",
       "      <td>1</td>\n",
       "    </tr>\n",
       "  </tbody>\n",
       "</table>\n",
       "</div>"
      ],
      "text/plain": [
       "    0   1   2\n",
       "0   2   2   2\n",
       "1  11  11  11\n",
       "2  13  11  13\n",
       "3   2   1   1\n",
       "4  19  19   1"
      ]
     },
     "execution_count": 16,
     "metadata": {},
     "output_type": "execute_result"
    }
   ],
   "source": [
    "encoded_players.head()"
   ]
  },
  {
   "cell_type": "markdown",
   "metadata": {},
   "source": [
    "## Train-test split"
   ]
  },
  {
   "cell_type": "code",
   "execution_count": 17,
   "metadata": {},
   "outputs": [],
   "source": [
    "import random"
   ]
  },
  {
   "cell_type": "code",
   "execution_count": 18,
   "metadata": {},
   "outputs": [],
   "source": [
    "nrow = encoded_players.shape[0]\n",
    "random_ind = [i for i in range(0, nrow)]\n",
    "random.shuffle(random_ind)"
   ]
  },
  {
   "cell_type": "code",
   "execution_count": 32,
   "metadata": {},
   "outputs": [],
   "source": [
    "train_test_split = 0.9\n",
    "split = int(train_test_split*nrow)"
   ]
  },
  {
   "cell_type": "code",
   "execution_count": 33,
   "metadata": {},
   "outputs": [],
   "source": [
    "X_train_player = encoded_players.loc[random_ind[:split]]\n",
    "X_train_event = final_event_data.loc[random_ind[:split]]\n",
    "y_train = target_encoded_events.iloc[random_ind[:split], -1:] # last column is Goal\n",
    "\n",
    "X_test_player = encoded_players.loc[random_ind[split:]]\n",
    "X_test_event = final_event_data.loc[random_ind[split:]]\n",
    "y_test = target_encoded_events.iloc[random_ind[split:], -1:] # last column is Goal"
   ]
  },
  {
   "cell_type": "markdown",
   "metadata": {},
   "source": [
    "## Mixed Data Neural Network"
   ]
  },
  {
   "cell_type": "code",
   "execution_count": 21,
   "metadata": {},
   "outputs": [],
   "source": [
    "from kerastuner import HyperModel\n",
    "\n",
    "import tensorflow\n",
    "from tensorflow import keras\n",
    "from tensorflow.keras.layers import (Embedding, InputLayer, Dense,\n",
    "                                     Activation)\n",
    "from tensorflow.keras import optimizers\n",
    "from tensorflow.keras import metrics"
   ]
  },
  {
   "cell_type": "code",
   "execution_count": 22,
   "metadata": {},
   "outputs": [],
   "source": [
    "class Hypermodel(HyperModel):\n",
    "    def __init__(self, input_shape, n_players, emb_dim):\n",
    "        self.input_shape = input_shape\n",
    "        self.n_players = n_players\n",
    "        self.emb_dim = emb_dim\n",
    "        \n",
    "    def build(self, hp):\n",
    "        model = keras.Sequential()\n",
    "        model.add(InputLayer(input_shape=self.input_shape))\n",
    "        model.add(Embedding(self.n_players, self.emb_dim, trainable=True))\n",
    "        \n",
    "        model.add(\n",
    "            Dense(units=hp.Int('units_1', \n",
    "                               min_value=16, \n",
    "                               max_value=128, \n",
    "                               step=16),\n",
    "                  activation=hp.Choice('activation_1', \n",
    "                                       values=['relu', 'tanh', 'sigmoid']))\n",
    "        )\n",
    "        model.add(\n",
    "            Dense(units=hp.Int('units_2', \n",
    "                               min_value=16, \n",
    "                               max_value=128, \n",
    "                               step=16),\n",
    "                  activation=hp.Choice('activation_2', \n",
    "                                       values=['relu', 'tanh', 'sigmoid']))\n",
    "        )\n",
    "        model.add(Dense(units=1))\n",
    "        model.add(Activation(activation='sigmoid'))\n",
    "        \n",
    "        model.compile(\n",
    "            optimizer=optimizers.Adam(\n",
    "                learning_rate=hp.Float('learning_rate', \n",
    "                                       min_value=1e-4, \n",
    "                                       max_value=1e-2,\n",
    "                                       sampling='LOG')\n",
    "            ),\n",
    "            loss='binary_crossentropy',\n",
    "            metrics=['accuracy']\n",
    "        )\n",
    "        \n",
    "        return model"
   ]
  },
  {
   "cell_type": "code",
   "execution_count": null,
   "metadata": {},
   "outputs": [],
   "source": [
    "input_shape = (X_train_player.shape[1],)\n",
    "n_players = len(load.Player.unique())\n",
    "emb_dim = 20\n",
    "\n",
    "hypermodel = Hypermodel(input_shape, n_players, emb_dim)"
   ]
  },
  {
   "cell_type": "markdown",
   "metadata": {},
   "source": [
    "## Hyperparameter Tuning"
   ]
  },
  {
   "cell_type": "code",
   "execution_count": 25,
   "metadata": {},
   "outputs": [],
   "source": [
    "from kerastuner.tuners import RandomSearch\n",
    "from keras.callbacks import EarlyStopping"
   ]
  },
  {
   "cell_type": "code",
   "execution_count": 34,
   "metadata": {},
   "outputs": [],
   "source": [
    "tuner = RandomSearch(\n",
    "    hypermodel,\n",
    "    objective='val_accuracy',\n",
    "    seed=1,\n",
    "    max_trials=10,\n",
    "    executions_per_trial=2,\n",
    "    directory='random_search',\n",
    "    overwrite=True\n",
    ")\n",
    "\n",
    "stop_early = EarlyStopping(monitor='val_loss', patience=5)"
   ]
  },
  {
   "cell_type": "code",
   "execution_count": 35,
   "metadata": {},
   "outputs": [
    {
     "name": "stdout",
     "output_type": "stream",
     "text": [
      "Search space summary\n",
      "Default search space size: 5\n",
      "units_1 (Int)\n",
      "{'default': None, 'conditions': [], 'min_value': 16, 'max_value': 128, 'step': 16, 'sampling': None}\n",
      "activation_1 (Choice)\n",
      "{'default': 'relu', 'conditions': [], 'values': ['relu', 'tanh', 'sigmoid'], 'ordered': False}\n",
      "units_2 (Int)\n",
      "{'default': None, 'conditions': [], 'min_value': 16, 'max_value': 128, 'step': 16, 'sampling': None}\n",
      "activation_2 (Choice)\n",
      "{'default': 'relu', 'conditions': [], 'values': ['relu', 'tanh', 'sigmoid'], 'ordered': False}\n",
      "learning_rate (Float)\n",
      "{'default': 0.0001, 'conditions': [], 'min_value': 0.0001, 'max_value': 0.01, 'step': None, 'sampling': 'log'}\n"
     ]
    }
   ],
   "source": [
    "tuner.search_space_summary()"
   ]
  },
  {
   "cell_type": "code",
   "execution_count": 36,
   "metadata": {},
   "outputs": [
    {
     "name": "stdout",
     "output_type": "stream",
     "text": [
      "Trial 10 Complete [00h 00m 03s]\n",
      "val_accuracy: 0.9636871218681335\n",
      "\n",
      "Best val_accuracy So Far: 0.9636871218681335\n",
      "Total elapsed time: 00h 00m 36s\n",
      "INFO:tensorflow:Oracle triggered exit\n"
     ]
    }
   ],
   "source": [
    "N_EPOCH_SEARCH = 10\n",
    "tuner.search(X_train_player, y_train, epochs=N_EPOCH_SEARCH, \n",
    "             validation_split=0.2, callbacks=[stop_early])"
   ]
  },
  {
   "cell_type": "code",
   "execution_count": 37,
   "metadata": {},
   "outputs": [
    {
     "name": "stdout",
     "output_type": "stream",
     "text": [
      "Results summary\n",
      "Results in random_search\\untitled_project\n",
      "Showing 1 best trials\n",
      "Objective(name='val_accuracy', direction='max')\n",
      "Trial summary\n",
      "Hyperparameters:\n",
      "units_1: 32\n",
      "activation_1: relu\n",
      "units_2: 48\n",
      "activation_2: relu\n",
      "learning_rate: 0.0017611785596585996\n",
      "Score: 0.9636871218681335\n"
     ]
    }
   ],
   "source": [
    "tuner.results_summary(1)"
   ]
  },
  {
   "cell_type": "markdown",
   "metadata": {},
   "source": [
    "## Final Model"
   ]
  },
  {
   "cell_type": "code",
   "execution_count": 38,
   "metadata": {},
   "outputs": [
    {
     "name": "stdout",
     "output_type": "stream",
     "text": [
      "Epoch 1/3\n",
      "45/45 [==============================] - 1s 6ms/step - loss: 0.4277 - accuracy: 0.9629 - val_loss: 0.1625 - val_accuracy: 0.9637\n",
      "Epoch 2/3\n",
      "45/45 [==============================] - 0s 2ms/step - loss: 0.1634 - accuracy: 0.9629 - val_loss: 0.1589 - val_accuracy: 0.9637\n",
      "Epoch 3/3\n",
      "45/45 [==============================] - 0s 2ms/step - loss: 0.1505 - accuracy: 0.9629 - val_loss: 0.1617 - val_accuracy: 0.9637\n"
     ]
    },
    {
     "data": {
      "text/plain": [
       "<tensorflow.python.keras.callbacks.History at 0x2b4021ba880>"
      ]
     },
     "execution_count": 38,
     "metadata": {},
     "output_type": "execute_result"
    }
   ],
   "source": [
    "best_hyppar = tuner.get_best_hyperparameters(num_trials=1)[0]\n",
    "final_model = tuner.hypermodel.build(best_hyppar)\n",
    "final_model.fit(X_train_player, y_train, epochs=3, validation_split=0.2)"
   ]
  },
  {
   "cell_type": "code",
   "execution_count": 39,
   "metadata": {},
   "outputs": [
    {
     "name": "stdout",
     "output_type": "stream",
     "text": [
      "Model: \"sequential\"\n",
      "_________________________________________________________________\n",
      "Layer (type)                 Output Shape              Param #   \n",
      "=================================================================\n",
      "embedding (Embedding)        (None, 3, 20)             2520      \n",
      "_________________________________________________________________\n",
      "dense (Dense)                (None, 3, 32)             672       \n",
      "_________________________________________________________________\n",
      "dense_1 (Dense)              (None, 3, 48)             1584      \n",
      "_________________________________________________________________\n",
      "dense_2 (Dense)              (None, 3, 1)              49        \n",
      "_________________________________________________________________\n",
      "activation (Activation)      (None, 3, 1)              0         \n",
      "=================================================================\n",
      "Total params: 4,825\n",
      "Trainable params: 4,825\n",
      "Non-trainable params: 0\n",
      "_________________________________________________________________\n"
     ]
    }
   ],
   "source": [
    "final_model.summary()"
   ]
  },
  {
   "cell_type": "code",
   "execution_count": 40,
   "metadata": {},
   "outputs": [
    {
     "name": "stdout",
     "output_type": "stream",
     "text": [
      "7/7 [==============================] - 0s 1ms/step - loss: 0.2038 - accuracy: 0.9497\n"
     ]
    }
   ],
   "source": [
    "\n",
    "loss, accuracy = final_model.evaluate(X_test_player, y_test)"
   ]
  },
  {
   "cell_type": "code",
   "execution_count": 52,
   "metadata": {},
   "outputs": [],
   "source": [
    "pred = final_model.predict(X_test_player)\n",
    "pred = np.argmax(pred, axis=1)"
   ]
  },
  {
   "cell_type": "code",
   "execution_count": null,
   "metadata": {},
   "outputs": [],
   "source": [
    "from sklearn.metrics import confusion_matrix\n",
    "\n",
    "cm = confusion_matrix(np.array(y_test), pred)\n",
    "cm"
   ]
  },
  {
   "cell_type": "code",
   "execution_count": null,
   "metadata": {},
   "outputs": [],
   "source": [
    "from sklearn.metrics import roc_auc_score\n",
    "\n",
    "roc_auc_score(test_Y, pred)"
   ]
  }
 ],
 "metadata": {
  "kernelspec": {
   "display_name": "Python 3",
   "language": "python",
   "name": "python3"
  },
  "language_info": {
   "codemirror_mode": {
    "name": "ipython",
    "version": 3
   },
   "file_extension": ".py",
   "mimetype": "text/x-python",
   "name": "python",
   "nbconvert_exporter": "python",
   "pygments_lexer": "ipython3",
   "version": "3.8.5"
  }
 },
 "nbformat": 4,
 "nbformat_minor": 4
}

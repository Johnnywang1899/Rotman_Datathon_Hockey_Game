{
 "cells": [
  {
   "cell_type": "code",
   "execution_count": 1,
   "metadata": {},
   "outputs": [],
   "source": [
    "import numpy as np\n",
    "import pandas as pd"
   ]
  },
  {
   "cell_type": "code",
   "execution_count": 2,
   "metadata": {},
   "outputs": [],
   "source": [
    "path = (\"C:/Users/Ong Jia Yi/Desktop/STUDY/Summer 2021\"\n",
    "        \"/Rotman MMA Summer 2021 Datathon\")\n",
    "\n",
    "# hereafter called 'the original dataframe'\n",
    "load = pd.read_csv(path + \"/NWHL.csv\")"
   ]
  },
  {
   "cell_type": "markdown",
   "metadata": {},
   "source": [
    "### DEFINITIONS\n",
    "1) \"outcomes\" is defined to be the end of a sequence of prior events that are of interest."
   ]
  },
  {
   "cell_type": "markdown",
   "metadata": {},
   "source": [
    "## Function - prior_events"
   ]
  },
  {
   "cell_type": "code",
   "execution_count": 3,
   "metadata": {},
   "outputs": [],
   "source": [
    "def prior_events(outcome_data):\n",
    "    \"\"\"Return a dataframe of the details of events that led to an outcome\n",
    "    of interest.\n",
    "    \n",
    "    Arguments:\n",
    "    outcome_data -- subset of the original Pandas DataFrame where\n",
    "                    the outcome(s) of interest occur.Indexes of <outcome_data>\n",
    "                    preserves that of the original dataframe.\n",
    "    Returns:\n",
    "    new_frame -- Pandas DataFrame containing info. on prior events.\n",
    "    \"\"\"\n",
    "    new_frame = []\n",
    "    for i in outcome_data.index:\n",
    "\n",
    "        new_row = []\n",
    "        for j in range(1, window_len+1):\n",
    "            last_event = load.loc[i-j, outcome_data.columns]\n",
    "            last_event = np.array(last_event)\n",
    "            new_row.append(last_event)\n",
    "        new_row = np.concatenate(new_row)\n",
    "\n",
    "        new_frame.append([new_row])\n",
    "    \n",
    "    new_frame = pd.DataFrame(np.concatenate(new_frame))\n",
    "    colnames = [\"{}_l{}\".format(name, i) for i in range(1, window_len+1) \\\n",
    "                for name in outcome_data.columns]\n",
    "    new_frame.columns = colnames\n",
    "    \n",
    "    return new_frame"
   ]
  },
  {
   "cell_type": "markdown",
   "metadata": {},
   "source": [
    "## Function - encode_player"
   ]
  },
  {
   "cell_type": "code",
   "execution_count": 4,
   "metadata": {},
   "outputs": [],
   "source": [
    "def encode_players(outcome_data, prior_events_data, all_players, window_len):\n",
    "    \"\"\"Encode the outcome player and prior event player(s) by their IDs,\n",
    "    which are their order of appearance in the original dataset.\n",
    "    \n",
    "    Arguments:\n",
    "    outcome_data -- subset of the original Pandas DataFrame where\n",
    "                    the outcome(s) of interest occur.\n",
    "    prior_events_data -- output from prior_events() function with \n",
    "                         the same <outcome_data> input.\n",
    "    all_players -- a Numpy array of all player names in the original \n",
    "                   dataset (no repetition).\n",
    "    window_len -- (int) the number of previous events to include.\n",
    "    \n",
    "    Returns:\n",
    "    player_encoded -- a Pandas DataFrame of the IDs of the player associated\n",
    "                      to the outcome and prior events.\n",
    "    \"\"\"\n",
    "    outcome_player = outcome_data.Player.reset_index(drop=True)\n",
    "    prior_players = prior_events_data.filter(regex=\"Player\").reset_index(drop=True)\n",
    "\n",
    "    merged = pd.concat([outcome_player, prior_players], ignore_index=True, axis=1)\n",
    "    \n",
    "    # plus one so ID starts at 1\n",
    "    players_encoded = merged.applymap(lambda x: np.where(x == all_players)[0][0] + 1)\n",
    "    \n",
    "    return players_encoded"
   ]
  },
  {
   "cell_type": "markdown",
   "metadata": {},
   "source": [
    "## Function - one_hot_encoder"
   ]
  },
  {
   "cell_type": "code",
   "execution_count": 5,
   "metadata": {},
   "outputs": [],
   "source": [
    "def one_hot_encoder(categories):\n",
    "    \"\"\"Creates a one-hot encoding for categorical data\n",
    "    e.g. name of event or name of player.\n",
    "    \n",
    "    Arguments:\n",
    "    categories -- Numpy array of all instances of the categorical data.\n",
    "    \n",
    "    Returns:\n",
    "    oh_dict -- dictionary that maps instance of categorical data to \n",
    "               a Numpy array of one-hot encoding integers.\n",
    "    \"\"\"\n",
    "    oh_mat = pd.get_dummies(categories)\n",
    "    \n",
    "    oh_dict = dict()\n",
    "    for cat in categories:\n",
    "        oh_dict[cat] = np.array(oh_mat.loc[:, cat])\n",
    "        \n",
    "    return oh_dict"
   ]
  },
  {
   "cell_type": "markdown",
   "metadata": {},
   "source": [
    "## Function - encode_events"
   ]
  },
  {
   "cell_type": "code",
   "execution_count": 6,
   "metadata": {},
   "outputs": [],
   "source": [
    "def encode_events(outcome_data, prior_events_data, event_oh, window_len):\n",
    "    \"\"\"Encode the outcome and prior event(s) by their IDs,\n",
    "    which are their order of appearance in the original dataset.\n",
    "    \n",
    "    Arguments:\n",
    "    outcome_data -- subset of the original Pandas DataFrame where\n",
    "                    the outcome(s) of interest occur.\n",
    "    prior_events_data -- output from prior_events() function with \n",
    "                         the same <outcome_data> input.\n",
    "    event_oh -- one-hot-encoding dictionary for events.\n",
    "    window_len -- (int) the number of previous events to include.\n",
    "    \n",
    "    Returns:\n",
    "    events_encoded -- a Pandas DataFrame of the IDs of the event associated\n",
    "                      to the outcome and prior events.\n",
    "    \"\"\"\n",
    "    outcome_events = outcome_data.Event.reset_index(drop=True)\n",
    "    outcome_events = pd.DataFrame(outcome_events).applymap(lambda x: event_oh[x])\n",
    "    \n",
    "    prior_events = prior_events_data.filter(regex=\"Event\").reset_index(drop=True)\n",
    "    prior_events = pd.DataFrame(prior_events).applymap(lambda x: event_oh[x])\n",
    "    \n",
    "    target_events_encoded = pd.DataFrame(outcome_events.iloc[:,0].to_list())\n",
    "    events_encoded = pd.DataFrame(prior_events.iloc[:,0].to_list())\n",
    "    \n",
    "    for i in range(1, prior_events.shape[1]):\n",
    "        prior_encoded_sub = pd.DataFrame(prior_events.iloc[:,i].to_list())\n",
    "        events_encoded = pd.concat([events_encoded, prior_encoded_sub], axis=1)\n",
    "    \n",
    "    \n",
    "    return target_events_encoded, events_encoded"
   ]
  },
  {
   "cell_type": "markdown",
   "metadata": {},
   "source": [
    "## Implementing functions"
   ]
  },
  {
   "cell_type": "code",
   "execution_count": 7,
   "metadata": {},
   "outputs": [],
   "source": [
    "# interested in events leading to outcomes of Shot/Goal\n",
    "outcomes_interest = [\"Shot\", \"Goal\"]\n",
    "\n",
    "# capture two prior events leading to outcome\n",
    "window_len = 2\n",
    "\n",
    "#  a list of variable names to describe prior events.\n",
    "detail_names = ['Period', 'Home Team Skaters', 'Away Team Skaters',\n",
    "                'X Coordinate', 'Y Coordinate', 'Player', 'Event']\n",
    "\n",
    "# Subset rows only with Event == Shot/Goal\n",
    "# Indexes of <outcome_data> preserves that of the original dataframe.\n",
    "outcome_data = load.loc[load.Event.isin(outcomes_interest), detail_names]"
   ]
  },
  {
   "cell_type": "code",
   "execution_count": 8,
   "metadata": {},
   "outputs": [
    {
     "data": {
      "text/html": [
       "<div>\n",
       "<style scoped>\n",
       "    .dataframe tbody tr th:only-of-type {\n",
       "        vertical-align: middle;\n",
       "    }\n",
       "\n",
       "    .dataframe tbody tr th {\n",
       "        vertical-align: top;\n",
       "    }\n",
       "\n",
       "    .dataframe thead th {\n",
       "        text-align: right;\n",
       "    }\n",
       "</style>\n",
       "<table border=\"1\" class=\"dataframe\">\n",
       "  <thead>\n",
       "    <tr style=\"text-align: right;\">\n",
       "      <th></th>\n",
       "      <th>Period_l1</th>\n",
       "      <th>Home Team Skaters_l1</th>\n",
       "      <th>Away Team Skaters_l1</th>\n",
       "      <th>X Coordinate_l1</th>\n",
       "      <th>Y Coordinate_l1</th>\n",
       "      <th>Player_l1</th>\n",
       "      <th>Event_l1</th>\n",
       "      <th>Period_l2</th>\n",
       "      <th>Home Team Skaters_l2</th>\n",
       "      <th>Away Team Skaters_l2</th>\n",
       "      <th>X Coordinate_l2</th>\n",
       "      <th>Y Coordinate_l2</th>\n",
       "      <th>Player_l2</th>\n",
       "      <th>Event_l2</th>\n",
       "    </tr>\n",
       "  </thead>\n",
       "  <tbody>\n",
       "    <tr>\n",
       "      <th>0</th>\n",
       "      <td>1</td>\n",
       "      <td>5</td>\n",
       "      <td>5</td>\n",
       "      <td>125</td>\n",
       "      <td>28</td>\n",
       "      <td>McKenna Brand</td>\n",
       "      <td>Zone Entry</td>\n",
       "      <td>1</td>\n",
       "      <td>5</td>\n",
       "      <td>5</td>\n",
       "      <td>107</td>\n",
       "      <td>40</td>\n",
       "      <td>McKenna Brand</td>\n",
       "      <td>Puck Recovery</td>\n",
       "    </tr>\n",
       "    <tr>\n",
       "      <th>1</th>\n",
       "      <td>1</td>\n",
       "      <td>5</td>\n",
       "      <td>5</td>\n",
       "      <td>124</td>\n",
       "      <td>2</td>\n",
       "      <td>Allie Thunstrom</td>\n",
       "      <td>Zone Entry</td>\n",
       "      <td>1</td>\n",
       "      <td>5</td>\n",
       "      <td>5</td>\n",
       "      <td>112</td>\n",
       "      <td>0</td>\n",
       "      <td>Allie Thunstrom</td>\n",
       "      <td>Takeaway</td>\n",
       "    </tr>\n",
       "    <tr>\n",
       "      <th>2</th>\n",
       "      <td>1</td>\n",
       "      <td>5</td>\n",
       "      <td>5</td>\n",
       "      <td>168</td>\n",
       "      <td>10</td>\n",
       "      <td>Allie Thunstrom</td>\n",
       "      <td>Play</td>\n",
       "      <td>1</td>\n",
       "      <td>5</td>\n",
       "      <td>5</td>\n",
       "      <td>124</td>\n",
       "      <td>20</td>\n",
       "      <td>Nina Rodgers</td>\n",
       "      <td>Zone Entry</td>\n",
       "    </tr>\n",
       "    <tr>\n",
       "      <th>3</th>\n",
       "      <td>1</td>\n",
       "      <td>5</td>\n",
       "      <td>5</td>\n",
       "      <td>135</td>\n",
       "      <td>52</td>\n",
       "      <td>Jillian Dempsey</td>\n",
       "      <td>Play</td>\n",
       "      <td>1</td>\n",
       "      <td>5</td>\n",
       "      <td>5</td>\n",
       "      <td>125</td>\n",
       "      <td>70</td>\n",
       "      <td>Jillian Dempsey</td>\n",
       "      <td>Zone Entry</td>\n",
       "    </tr>\n",
       "    <tr>\n",
       "      <th>4</th>\n",
       "      <td>1</td>\n",
       "      <td>5</td>\n",
       "      <td>5</td>\n",
       "      <td>196</td>\n",
       "      <td>20</td>\n",
       "      <td>Lauren Kelly</td>\n",
       "      <td>Puck Recovery</td>\n",
       "      <td>1</td>\n",
       "      <td>5</td>\n",
       "      <td>5</td>\n",
       "      <td>174</td>\n",
       "      <td>82</td>\n",
       "      <td>Jillian Dempsey</td>\n",
       "      <td>Incomplete Play</td>\n",
       "    </tr>\n",
       "  </tbody>\n",
       "</table>\n",
       "</div>"
      ],
      "text/plain": [
       "  Period_l1 Home Team Skaters_l1 Away Team Skaters_l1 X Coordinate_l1  \\\n",
       "0         1                    5                    5             125   \n",
       "1         1                    5                    5             124   \n",
       "2         1                    5                    5             168   \n",
       "3         1                    5                    5             135   \n",
       "4         1                    5                    5             196   \n",
       "\n",
       "  Y Coordinate_l1        Player_l1       Event_l1 Period_l2  \\\n",
       "0              28    McKenna Brand     Zone Entry         1   \n",
       "1               2  Allie Thunstrom     Zone Entry         1   \n",
       "2              10  Allie Thunstrom           Play         1   \n",
       "3              52  Jillian Dempsey           Play         1   \n",
       "4              20     Lauren Kelly  Puck Recovery         1   \n",
       "\n",
       "  Home Team Skaters_l2 Away Team Skaters_l2 X Coordinate_l2 Y Coordinate_l2  \\\n",
       "0                    5                    5             107              40   \n",
       "1                    5                    5             112               0   \n",
       "2                    5                    5             124              20   \n",
       "3                    5                    5             125              70   \n",
       "4                    5                    5             174              82   \n",
       "\n",
       "         Player_l2         Event_l2  \n",
       "0    McKenna Brand    Puck Recovery  \n",
       "1  Allie Thunstrom         Takeaway  \n",
       "2     Nina Rodgers       Zone Entry  \n",
       "3  Jillian Dempsey       Zone Entry  \n",
       "4  Jillian Dempsey  Incomplete Play  "
      ]
     },
     "execution_count": 8,
     "metadata": {},
     "output_type": "execute_result"
    }
   ],
   "source": [
    "prior_events_data = prior_events(outcome_data)\n",
    "prior_events_data.head()"
   ]
  },
  {
   "cell_type": "code",
   "execution_count": 9,
   "metadata": {},
   "outputs": [
    {
     "data": {
      "text/html": [
       "<div>\n",
       "<style scoped>\n",
       "    .dataframe tbody tr th:only-of-type {\n",
       "        vertical-align: middle;\n",
       "    }\n",
       "\n",
       "    .dataframe tbody tr th {\n",
       "        vertical-align: top;\n",
       "    }\n",
       "\n",
       "    .dataframe thead th {\n",
       "        text-align: right;\n",
       "    }\n",
       "</style>\n",
       "<table border=\"1\" class=\"dataframe\">\n",
       "  <thead>\n",
       "    <tr style=\"text-align: right;\">\n",
       "      <th></th>\n",
       "      <th>0</th>\n",
       "      <th>1</th>\n",
       "      <th>2</th>\n",
       "    </tr>\n",
       "  </thead>\n",
       "  <tbody>\n",
       "    <tr>\n",
       "      <th>0</th>\n",
       "      <td>2</td>\n",
       "      <td>2</td>\n",
       "      <td>2</td>\n",
       "    </tr>\n",
       "    <tr>\n",
       "      <th>1</th>\n",
       "      <td>11</td>\n",
       "      <td>11</td>\n",
       "      <td>11</td>\n",
       "    </tr>\n",
       "    <tr>\n",
       "      <th>2</th>\n",
       "      <td>13</td>\n",
       "      <td>11</td>\n",
       "      <td>13</td>\n",
       "    </tr>\n",
       "    <tr>\n",
       "      <th>3</th>\n",
       "      <td>2</td>\n",
       "      <td>1</td>\n",
       "      <td>1</td>\n",
       "    </tr>\n",
       "    <tr>\n",
       "      <th>4</th>\n",
       "      <td>19</td>\n",
       "      <td>19</td>\n",
       "      <td>1</td>\n",
       "    </tr>\n",
       "  </tbody>\n",
       "</table>\n",
       "</div>"
      ],
      "text/plain": [
       "    0   1   2\n",
       "0   2   2   2\n",
       "1  11  11  11\n",
       "2  13  11  13\n",
       "3   2   1   1\n",
       "4  19  19   1"
      ]
     },
     "execution_count": 9,
     "metadata": {},
     "output_type": "execute_result"
    }
   ],
   "source": [
    "encoded_players = encode_players(outcome_data, prior_events_data, load.Player.unique(), window_len)\n",
    "encoded_players.head()"
   ]
  },
  {
   "cell_type": "code",
   "execution_count": 10,
   "metadata": {},
   "outputs": [
    {
     "data": {
      "text/plain": [
       "array([0, 0, 0, 1, 0, 0, 0, 0, 0, 0], dtype=uint8)"
      ]
     },
     "execution_count": 10,
     "metadata": {},
     "output_type": "execute_result"
    }
   ],
   "source": [
    "event_oh = one_hot_encoder(load.Event.unique())\n",
    "event_oh[\"Shot\"]"
   ]
  },
  {
   "cell_type": "code",
   "execution_count": 11,
   "metadata": {},
   "outputs": [
    {
     "data": {
      "text/plain": [
       "array(['Faceoff Win', 'Puck Recovery', 'Zone Entry', 'Shot', 'Play',\n",
       "       'Takeaway', 'Dump In/Out', 'Incomplete Play', 'Penalty Taken',\n",
       "       'Goal'], dtype=object)"
      ]
     },
     "execution_count": 11,
     "metadata": {},
     "output_type": "execute_result"
    }
   ],
   "source": [
    "load.Event.unique()"
   ]
  },
  {
   "cell_type": "code",
   "execution_count": 12,
   "metadata": {
    "scrolled": true
   },
   "outputs": [
    {
     "data": {
      "text/html": [
       "<div>\n",
       "<style scoped>\n",
       "    .dataframe tbody tr th:only-of-type {\n",
       "        vertical-align: middle;\n",
       "    }\n",
       "\n",
       "    .dataframe tbody tr th {\n",
       "        vertical-align: top;\n",
       "    }\n",
       "\n",
       "    .dataframe thead th {\n",
       "        text-align: right;\n",
       "    }\n",
       "</style>\n",
       "<table border=\"1\" class=\"dataframe\">\n",
       "  <thead>\n",
       "    <tr style=\"text-align: right;\">\n",
       "      <th></th>\n",
       "      <th>0</th>\n",
       "      <th>1</th>\n",
       "      <th>2</th>\n",
       "      <th>3</th>\n",
       "      <th>4</th>\n",
       "      <th>5</th>\n",
       "      <th>6</th>\n",
       "      <th>7</th>\n",
       "      <th>8</th>\n",
       "      <th>9</th>\n",
       "      <th>0</th>\n",
       "      <th>1</th>\n",
       "      <th>2</th>\n",
       "      <th>3</th>\n",
       "      <th>4</th>\n",
       "      <th>5</th>\n",
       "      <th>6</th>\n",
       "      <th>7</th>\n",
       "      <th>8</th>\n",
       "      <th>9</th>\n",
       "    </tr>\n",
       "  </thead>\n",
       "  <tbody>\n",
       "    <tr>\n",
       "      <th>0</th>\n",
       "      <td>0</td>\n",
       "      <td>0</td>\n",
       "      <td>1</td>\n",
       "      <td>0</td>\n",
       "      <td>0</td>\n",
       "      <td>0</td>\n",
       "      <td>0</td>\n",
       "      <td>0</td>\n",
       "      <td>0</td>\n",
       "      <td>0</td>\n",
       "      <td>0</td>\n",
       "      <td>1</td>\n",
       "      <td>0</td>\n",
       "      <td>0</td>\n",
       "      <td>0</td>\n",
       "      <td>0</td>\n",
       "      <td>0</td>\n",
       "      <td>0</td>\n",
       "      <td>0</td>\n",
       "      <td>0</td>\n",
       "    </tr>\n",
       "    <tr>\n",
       "      <th>1</th>\n",
       "      <td>0</td>\n",
       "      <td>0</td>\n",
       "      <td>1</td>\n",
       "      <td>0</td>\n",
       "      <td>0</td>\n",
       "      <td>0</td>\n",
       "      <td>0</td>\n",
       "      <td>0</td>\n",
       "      <td>0</td>\n",
       "      <td>0</td>\n",
       "      <td>0</td>\n",
       "      <td>0</td>\n",
       "      <td>0</td>\n",
       "      <td>0</td>\n",
       "      <td>0</td>\n",
       "      <td>1</td>\n",
       "      <td>0</td>\n",
       "      <td>0</td>\n",
       "      <td>0</td>\n",
       "      <td>0</td>\n",
       "    </tr>\n",
       "    <tr>\n",
       "      <th>2</th>\n",
       "      <td>0</td>\n",
       "      <td>0</td>\n",
       "      <td>0</td>\n",
       "      <td>0</td>\n",
       "      <td>1</td>\n",
       "      <td>0</td>\n",
       "      <td>0</td>\n",
       "      <td>0</td>\n",
       "      <td>0</td>\n",
       "      <td>0</td>\n",
       "      <td>0</td>\n",
       "      <td>0</td>\n",
       "      <td>1</td>\n",
       "      <td>0</td>\n",
       "      <td>0</td>\n",
       "      <td>0</td>\n",
       "      <td>0</td>\n",
       "      <td>0</td>\n",
       "      <td>0</td>\n",
       "      <td>0</td>\n",
       "    </tr>\n",
       "    <tr>\n",
       "      <th>3</th>\n",
       "      <td>0</td>\n",
       "      <td>0</td>\n",
       "      <td>0</td>\n",
       "      <td>0</td>\n",
       "      <td>1</td>\n",
       "      <td>0</td>\n",
       "      <td>0</td>\n",
       "      <td>0</td>\n",
       "      <td>0</td>\n",
       "      <td>0</td>\n",
       "      <td>0</td>\n",
       "      <td>0</td>\n",
       "      <td>1</td>\n",
       "      <td>0</td>\n",
       "      <td>0</td>\n",
       "      <td>0</td>\n",
       "      <td>0</td>\n",
       "      <td>0</td>\n",
       "      <td>0</td>\n",
       "      <td>0</td>\n",
       "    </tr>\n",
       "    <tr>\n",
       "      <th>4</th>\n",
       "      <td>0</td>\n",
       "      <td>1</td>\n",
       "      <td>0</td>\n",
       "      <td>0</td>\n",
       "      <td>0</td>\n",
       "      <td>0</td>\n",
       "      <td>0</td>\n",
       "      <td>0</td>\n",
       "      <td>0</td>\n",
       "      <td>0</td>\n",
       "      <td>0</td>\n",
       "      <td>0</td>\n",
       "      <td>0</td>\n",
       "      <td>0</td>\n",
       "      <td>0</td>\n",
       "      <td>0</td>\n",
       "      <td>0</td>\n",
       "      <td>1</td>\n",
       "      <td>0</td>\n",
       "      <td>0</td>\n",
       "    </tr>\n",
       "  </tbody>\n",
       "</table>\n",
       "</div>"
      ],
      "text/plain": [
       "   0  1  2  3  4  5  6  7  8  9  0  1  2  3  4  5  6  7  8  9\n",
       "0  0  0  1  0  0  0  0  0  0  0  0  1  0  0  0  0  0  0  0  0\n",
       "1  0  0  1  0  0  0  0  0  0  0  0  0  0  0  0  1  0  0  0  0\n",
       "2  0  0  0  0  1  0  0  0  0  0  0  0  1  0  0  0  0  0  0  0\n",
       "3  0  0  0  0  1  0  0  0  0  0  0  0  1  0  0  0  0  0  0  0\n",
       "4  0  1  0  0  0  0  0  0  0  0  0  0  0  0  0  0  0  1  0  0"
      ]
     },
     "execution_count": 12,
     "metadata": {},
     "output_type": "execute_result"
    }
   ],
   "source": [
    "target_encoded_events, encoded_events = encode_events(outcome_data, prior_events_data, event_oh, window_len)\n",
    "encoded_events.head()"
   ]
  },
  {
   "cell_type": "markdown",
   "metadata": {},
   "source": [
    "## Finalize data"
   ]
  },
  {
   "cell_type": "markdown",
   "metadata": {},
   "source": [
    "### Event data"
   ]
  },
  {
   "cell_type": "code",
   "execution_count": 13,
   "metadata": {},
   "outputs": [
    {
     "data": {
      "text/html": [
       "<div>\n",
       "<style scoped>\n",
       "    .dataframe tbody tr th:only-of-type {\n",
       "        vertical-align: middle;\n",
       "    }\n",
       "\n",
       "    .dataframe tbody tr th {\n",
       "        vertical-align: top;\n",
       "    }\n",
       "\n",
       "    .dataframe thead th {\n",
       "        text-align: right;\n",
       "    }\n",
       "</style>\n",
       "<table border=\"1\" class=\"dataframe\">\n",
       "  <thead>\n",
       "    <tr style=\"text-align: right;\">\n",
       "      <th></th>\n",
       "      <th>Period</th>\n",
       "      <th>Home Team Skaters</th>\n",
       "      <th>Away Team Skaters</th>\n",
       "      <th>X Coordinate</th>\n",
       "      <th>Y Coordinate</th>\n",
       "    </tr>\n",
       "  </thead>\n",
       "  <tbody>\n",
       "    <tr>\n",
       "      <th>0</th>\n",
       "      <td>1</td>\n",
       "      <td>5</td>\n",
       "      <td>5</td>\n",
       "      <td>131</td>\n",
       "      <td>28</td>\n",
       "    </tr>\n",
       "    <tr>\n",
       "      <th>1</th>\n",
       "      <td>1</td>\n",
       "      <td>5</td>\n",
       "      <td>5</td>\n",
       "      <td>162</td>\n",
       "      <td>2</td>\n",
       "    </tr>\n",
       "    <tr>\n",
       "      <th>2</th>\n",
       "      <td>1</td>\n",
       "      <td>5</td>\n",
       "      <td>5</td>\n",
       "      <td>167</td>\n",
       "      <td>18</td>\n",
       "    </tr>\n",
       "    <tr>\n",
       "      <th>3</th>\n",
       "      <td>1</td>\n",
       "      <td>5</td>\n",
       "      <td>5</td>\n",
       "      <td>175</td>\n",
       "      <td>68</td>\n",
       "    </tr>\n",
       "    <tr>\n",
       "      <th>4</th>\n",
       "      <td>1</td>\n",
       "      <td>5</td>\n",
       "      <td>5</td>\n",
       "      <td>196</td>\n",
       "      <td>20</td>\n",
       "    </tr>\n",
       "  </tbody>\n",
       "</table>\n",
       "</div>"
      ],
      "text/plain": [
       "   Period  Home Team Skaters  Away Team Skaters  X Coordinate  Y Coordinate\n",
       "0       1                  5                  5           131            28\n",
       "1       1                  5                  5           162             2\n",
       "2       1                  5                  5           167            18\n",
       "3       1                  5                  5           175            68\n",
       "4       1                  5                  5           196            20"
      ]
     },
     "execution_count": 13,
     "metadata": {},
     "output_type": "execute_result"
    }
   ],
   "source": [
    "final_event_data_1 = outcome_data.drop([\"Player\", \"Event\"], axis=1)\n",
    "final_event_data_1 = final_event_data_1.reset_index(drop=True)\n",
    "final_event_data_1.head()"
   ]
  },
  {
   "cell_type": "code",
   "execution_count": 14,
   "metadata": {},
   "outputs": [
    {
     "data": {
      "text/html": [
       "<div>\n",
       "<style scoped>\n",
       "    .dataframe tbody tr th:only-of-type {\n",
       "        vertical-align: middle;\n",
       "    }\n",
       "\n",
       "    .dataframe tbody tr th {\n",
       "        vertical-align: top;\n",
       "    }\n",
       "\n",
       "    .dataframe thead th {\n",
       "        text-align: right;\n",
       "    }\n",
       "</style>\n",
       "<table border=\"1\" class=\"dataframe\">\n",
       "  <thead>\n",
       "    <tr style=\"text-align: right;\">\n",
       "      <th></th>\n",
       "      <th>Period_l1</th>\n",
       "      <th>Home Team Skaters_l1</th>\n",
       "      <th>Away Team Skaters_l1</th>\n",
       "      <th>X Coordinate_l1</th>\n",
       "      <th>Y Coordinate_l1</th>\n",
       "      <th>Period_l2</th>\n",
       "      <th>Home Team Skaters_l2</th>\n",
       "      <th>Away Team Skaters_l2</th>\n",
       "      <th>X Coordinate_l2</th>\n",
       "      <th>Y Coordinate_l2</th>\n",
       "    </tr>\n",
       "  </thead>\n",
       "  <tbody>\n",
       "    <tr>\n",
       "      <th>0</th>\n",
       "      <td>1</td>\n",
       "      <td>5</td>\n",
       "      <td>5</td>\n",
       "      <td>125</td>\n",
       "      <td>28</td>\n",
       "      <td>1</td>\n",
       "      <td>5</td>\n",
       "      <td>5</td>\n",
       "      <td>107</td>\n",
       "      <td>40</td>\n",
       "    </tr>\n",
       "    <tr>\n",
       "      <th>1</th>\n",
       "      <td>1</td>\n",
       "      <td>5</td>\n",
       "      <td>5</td>\n",
       "      <td>124</td>\n",
       "      <td>2</td>\n",
       "      <td>1</td>\n",
       "      <td>5</td>\n",
       "      <td>5</td>\n",
       "      <td>112</td>\n",
       "      <td>0</td>\n",
       "    </tr>\n",
       "    <tr>\n",
       "      <th>2</th>\n",
       "      <td>1</td>\n",
       "      <td>5</td>\n",
       "      <td>5</td>\n",
       "      <td>168</td>\n",
       "      <td>10</td>\n",
       "      <td>1</td>\n",
       "      <td>5</td>\n",
       "      <td>5</td>\n",
       "      <td>124</td>\n",
       "      <td>20</td>\n",
       "    </tr>\n",
       "    <tr>\n",
       "      <th>3</th>\n",
       "      <td>1</td>\n",
       "      <td>5</td>\n",
       "      <td>5</td>\n",
       "      <td>135</td>\n",
       "      <td>52</td>\n",
       "      <td>1</td>\n",
       "      <td>5</td>\n",
       "      <td>5</td>\n",
       "      <td>125</td>\n",
       "      <td>70</td>\n",
       "    </tr>\n",
       "    <tr>\n",
       "      <th>4</th>\n",
       "      <td>1</td>\n",
       "      <td>5</td>\n",
       "      <td>5</td>\n",
       "      <td>196</td>\n",
       "      <td>20</td>\n",
       "      <td>1</td>\n",
       "      <td>5</td>\n",
       "      <td>5</td>\n",
       "      <td>174</td>\n",
       "      <td>82</td>\n",
       "    </tr>\n",
       "  </tbody>\n",
       "</table>\n",
       "</div>"
      ],
      "text/plain": [
       "  Period_l1 Home Team Skaters_l1 Away Team Skaters_l1 X Coordinate_l1  \\\n",
       "0         1                    5                    5             125   \n",
       "1         1                    5                    5             124   \n",
       "2         1                    5                    5             168   \n",
       "3         1                    5                    5             135   \n",
       "4         1                    5                    5             196   \n",
       "\n",
       "  Y Coordinate_l1 Period_l2 Home Team Skaters_l2 Away Team Skaters_l2  \\\n",
       "0              28         1                    5                    5   \n",
       "1               2         1                    5                    5   \n",
       "2              10         1                    5                    5   \n",
       "3              52         1                    5                    5   \n",
       "4              20         1                    5                    5   \n",
       "\n",
       "  X Coordinate_l2 Y Coordinate_l2  \n",
       "0             107              40  \n",
       "1             112               0  \n",
       "2             124              20  \n",
       "3             125              70  \n",
       "4             174              82  "
      ]
     },
     "execution_count": 14,
     "metadata": {},
     "output_type": "execute_result"
    }
   ],
   "source": [
    "final_event_data_2 = prior_events_data.drop(list(prior_events_data.filter(regex=\"Event|Player\")), axis=1)\n",
    "final_event_data_2 = final_event_data_2.reset_index(drop=True)\n",
    "final_event_data_2.head()"
   ]
  },
  {
   "cell_type": "code",
   "execution_count": 15,
   "metadata": {
    "scrolled": true
   },
   "outputs": [
    {
     "data": {
      "text/html": [
       "<div>\n",
       "<style scoped>\n",
       "    .dataframe tbody tr th:only-of-type {\n",
       "        vertical-align: middle;\n",
       "    }\n",
       "\n",
       "    .dataframe tbody tr th {\n",
       "        vertical-align: top;\n",
       "    }\n",
       "\n",
       "    .dataframe thead th {\n",
       "        text-align: right;\n",
       "    }\n",
       "</style>\n",
       "<table border=\"1\" class=\"dataframe\">\n",
       "  <thead>\n",
       "    <tr style=\"text-align: right;\">\n",
       "      <th></th>\n",
       "      <th>0</th>\n",
       "      <th>1</th>\n",
       "      <th>2</th>\n",
       "      <th>3</th>\n",
       "      <th>4</th>\n",
       "      <th>5</th>\n",
       "      <th>6</th>\n",
       "      <th>7</th>\n",
       "      <th>8</th>\n",
       "      <th>9</th>\n",
       "      <th>...</th>\n",
       "      <th>25</th>\n",
       "      <th>26</th>\n",
       "      <th>27</th>\n",
       "      <th>28</th>\n",
       "      <th>29</th>\n",
       "      <th>30</th>\n",
       "      <th>31</th>\n",
       "      <th>32</th>\n",
       "      <th>33</th>\n",
       "      <th>34</th>\n",
       "    </tr>\n",
       "  </thead>\n",
       "  <tbody>\n",
       "    <tr>\n",
       "      <th>0</th>\n",
       "      <td>0</td>\n",
       "      <td>0</td>\n",
       "      <td>1</td>\n",
       "      <td>0</td>\n",
       "      <td>0</td>\n",
       "      <td>0</td>\n",
       "      <td>0</td>\n",
       "      <td>0</td>\n",
       "      <td>0</td>\n",
       "      <td>0</td>\n",
       "      <td>...</td>\n",
       "      <td>1</td>\n",
       "      <td>5</td>\n",
       "      <td>5</td>\n",
       "      <td>125</td>\n",
       "      <td>28</td>\n",
       "      <td>1</td>\n",
       "      <td>5</td>\n",
       "      <td>5</td>\n",
       "      <td>107</td>\n",
       "      <td>40</td>\n",
       "    </tr>\n",
       "    <tr>\n",
       "      <th>1</th>\n",
       "      <td>0</td>\n",
       "      <td>0</td>\n",
       "      <td>1</td>\n",
       "      <td>0</td>\n",
       "      <td>0</td>\n",
       "      <td>0</td>\n",
       "      <td>0</td>\n",
       "      <td>0</td>\n",
       "      <td>0</td>\n",
       "      <td>0</td>\n",
       "      <td>...</td>\n",
       "      <td>1</td>\n",
       "      <td>5</td>\n",
       "      <td>5</td>\n",
       "      <td>124</td>\n",
       "      <td>2</td>\n",
       "      <td>1</td>\n",
       "      <td>5</td>\n",
       "      <td>5</td>\n",
       "      <td>112</td>\n",
       "      <td>0</td>\n",
       "    </tr>\n",
       "    <tr>\n",
       "      <th>2</th>\n",
       "      <td>0</td>\n",
       "      <td>0</td>\n",
       "      <td>0</td>\n",
       "      <td>0</td>\n",
       "      <td>1</td>\n",
       "      <td>0</td>\n",
       "      <td>0</td>\n",
       "      <td>0</td>\n",
       "      <td>0</td>\n",
       "      <td>0</td>\n",
       "      <td>...</td>\n",
       "      <td>1</td>\n",
       "      <td>5</td>\n",
       "      <td>5</td>\n",
       "      <td>168</td>\n",
       "      <td>10</td>\n",
       "      <td>1</td>\n",
       "      <td>5</td>\n",
       "      <td>5</td>\n",
       "      <td>124</td>\n",
       "      <td>20</td>\n",
       "    </tr>\n",
       "    <tr>\n",
       "      <th>3</th>\n",
       "      <td>0</td>\n",
       "      <td>0</td>\n",
       "      <td>0</td>\n",
       "      <td>0</td>\n",
       "      <td>1</td>\n",
       "      <td>0</td>\n",
       "      <td>0</td>\n",
       "      <td>0</td>\n",
       "      <td>0</td>\n",
       "      <td>0</td>\n",
       "      <td>...</td>\n",
       "      <td>1</td>\n",
       "      <td>5</td>\n",
       "      <td>5</td>\n",
       "      <td>135</td>\n",
       "      <td>52</td>\n",
       "      <td>1</td>\n",
       "      <td>5</td>\n",
       "      <td>5</td>\n",
       "      <td>125</td>\n",
       "      <td>70</td>\n",
       "    </tr>\n",
       "    <tr>\n",
       "      <th>4</th>\n",
       "      <td>0</td>\n",
       "      <td>1</td>\n",
       "      <td>0</td>\n",
       "      <td>0</td>\n",
       "      <td>0</td>\n",
       "      <td>0</td>\n",
       "      <td>0</td>\n",
       "      <td>0</td>\n",
       "      <td>0</td>\n",
       "      <td>0</td>\n",
       "      <td>...</td>\n",
       "      <td>1</td>\n",
       "      <td>5</td>\n",
       "      <td>5</td>\n",
       "      <td>196</td>\n",
       "      <td>20</td>\n",
       "      <td>1</td>\n",
       "      <td>5</td>\n",
       "      <td>5</td>\n",
       "      <td>174</td>\n",
       "      <td>82</td>\n",
       "    </tr>\n",
       "  </tbody>\n",
       "</table>\n",
       "<p>5 rows × 35 columns</p>\n",
       "</div>"
      ],
      "text/plain": [
       "   0   1   2   3   4   5   6   7   8   9   ...  25  26  27   28  29  30  31  \\\n",
       "0   0   0   1   0   0   0   0   0   0   0  ...   1   5   5  125  28   1   5   \n",
       "1   0   0   1   0   0   0   0   0   0   0  ...   1   5   5  124   2   1   5   \n",
       "2   0   0   0   0   1   0   0   0   0   0  ...   1   5   5  168  10   1   5   \n",
       "3   0   0   0   0   1   0   0   0   0   0  ...   1   5   5  135  52   1   5   \n",
       "4   0   1   0   0   0   0   0   0   0   0  ...   1   5   5  196  20   1   5   \n",
       "\n",
       "   32   33  34  \n",
       "0   5  107  40  \n",
       "1   5  112   0  \n",
       "2   5  124  20  \n",
       "3   5  125  70  \n",
       "4   5  174  82  \n",
       "\n",
       "[5 rows x 35 columns]"
      ]
     },
     "execution_count": 15,
     "metadata": {},
     "output_type": "execute_result"
    }
   ],
   "source": [
    "final_event_data = pd.concat([encoded_events, final_event_data_1, final_event_data_2], ignore_index=True, axis=1)\n",
    "final_event_data.head()"
   ]
  },
  {
   "cell_type": "markdown",
   "metadata": {},
   "source": [
    "### Player data"
   ]
  },
  {
   "cell_type": "code",
   "execution_count": 16,
   "metadata": {},
   "outputs": [
    {
     "data": {
      "text/html": [
       "<div>\n",
       "<style scoped>\n",
       "    .dataframe tbody tr th:only-of-type {\n",
       "        vertical-align: middle;\n",
       "    }\n",
       "\n",
       "    .dataframe tbody tr th {\n",
       "        vertical-align: top;\n",
       "    }\n",
       "\n",
       "    .dataframe thead th {\n",
       "        text-align: right;\n",
       "    }\n",
       "</style>\n",
       "<table border=\"1\" class=\"dataframe\">\n",
       "  <thead>\n",
       "    <tr style=\"text-align: right;\">\n",
       "      <th></th>\n",
       "      <th>0</th>\n",
       "      <th>1</th>\n",
       "      <th>2</th>\n",
       "    </tr>\n",
       "  </thead>\n",
       "  <tbody>\n",
       "    <tr>\n",
       "      <th>0</th>\n",
       "      <td>2</td>\n",
       "      <td>2</td>\n",
       "      <td>2</td>\n",
       "    </tr>\n",
       "    <tr>\n",
       "      <th>1</th>\n",
       "      <td>11</td>\n",
       "      <td>11</td>\n",
       "      <td>11</td>\n",
       "    </tr>\n",
       "    <tr>\n",
       "      <th>2</th>\n",
       "      <td>13</td>\n",
       "      <td>11</td>\n",
       "      <td>13</td>\n",
       "    </tr>\n",
       "    <tr>\n",
       "      <th>3</th>\n",
       "      <td>2</td>\n",
       "      <td>1</td>\n",
       "      <td>1</td>\n",
       "    </tr>\n",
       "    <tr>\n",
       "      <th>4</th>\n",
       "      <td>19</td>\n",
       "      <td>19</td>\n",
       "      <td>1</td>\n",
       "    </tr>\n",
       "  </tbody>\n",
       "</table>\n",
       "</div>"
      ],
      "text/plain": [
       "    0   1   2\n",
       "0   2   2   2\n",
       "1  11  11  11\n",
       "2  13  11  13\n",
       "3   2   1   1\n",
       "4  19  19   1"
      ]
     },
     "execution_count": 16,
     "metadata": {},
     "output_type": "execute_result"
    }
   ],
   "source": [
    "encoded_players.head()"
   ]
  },
  {
   "cell_type": "markdown",
   "metadata": {},
   "source": [
    "## Train-test split"
   ]
  },
  {
   "cell_type": "code",
   "execution_count": 17,
   "metadata": {},
   "outputs": [],
   "source": [
    "import random"
   ]
  },
  {
   "cell_type": "code",
   "execution_count": 18,
   "metadata": {},
   "outputs": [],
   "source": [
    "nrow = encoded_players.shape[0]\n",
    "random_ind = [i for i in range(0, nrow)]\n",
    "random.shuffle(random_ind)"
   ]
  },
  {
   "cell_type": "code",
   "execution_count": 19,
   "metadata": {},
   "outputs": [],
   "source": [
    "train_test_split = 0.9\n",
    "split = int(train_test_split*nrow)"
   ]
  },
  {
   "cell_type": "code",
   "execution_count": 20,
   "metadata": {},
   "outputs": [],
   "source": [
    "X_train_player = encoded_players.loc[random_ind[:split]].astype('float32')\n",
    "X_train_event = final_event_data.loc[random_ind[:split]].astype('float32')\n",
    "y_train = target_encoded_events.iloc[random_ind[:split], -1:].astype('float32') # last column is Goal\n",
    "y_train = np.array(y_train).reshape(y_train.shape[0],)\n",
    "\n",
    "X_test_player = encoded_players.loc[random_ind[split:]].astype('float32')\n",
    "X_test_event = final_event_data.loc[random_ind[split:]].astype('float32')\n",
    "y_test = target_encoded_events.iloc[random_ind[split:], -1:].astype('float32') # last column is Goal\n",
    "y_test = np.array(y_test).reshape(y_test.shape[0],)"
   ]
  },
  {
   "cell_type": "code",
   "execution_count": 21,
   "metadata": {},
   "outputs": [
    {
     "data": {
      "text/plain": [
       "(1786, 35)"
      ]
     },
     "execution_count": 21,
     "metadata": {},
     "output_type": "execute_result"
    }
   ],
   "source": [
    "X_train_event.shape"
   ]
  },
  {
   "cell_type": "code",
   "execution_count": 22,
   "metadata": {},
   "outputs": [
    {
     "data": {
      "text/plain": [
       "(1786,)"
      ]
     },
     "execution_count": 22,
     "metadata": {},
     "output_type": "execute_result"
    }
   ],
   "source": [
    "y_train.shape"
   ]
  },
  {
   "cell_type": "markdown",
   "metadata": {},
   "source": [
    "## Mixed Data Neural Network"
   ]
  },
  {
   "cell_type": "code",
   "execution_count": 23,
   "metadata": {},
   "outputs": [],
   "source": [
    "from kerastuner import HyperModel\n",
    "\n",
    "import tensorflow\n",
    "from tensorflow import keras\n",
    "from tensorflow.keras import Sequential, Model\n",
    "from tensorflow.keras.layers import (Embedding, Input, Dense,\n",
    "                                     Flatten, Activation, concatenate)\n",
    "from tensorflow.keras import optimizers\n",
    "from tensorflow.keras import metrics"
   ]
  },
  {
   "cell_type": "code",
   "execution_count": 24,
   "metadata": {},
   "outputs": [],
   "source": [
    "class Hypermodel(HyperModel):\n",
    "    def __init__(self, input_shapes, n_players, emb_dim):\n",
    "        self.input_shape_1 = input_shapes[0]\n",
    "        self.input_shape_2 = input_shapes[1]\n",
    "        self.n_players = n_players\n",
    "        self.emb_dim = emb_dim\n",
    "        \n",
    "    def build(self, hp):\n",
    "        input_1 = Input(shape=self.input_shape_1)\n",
    "        input_2 = Input(shape=self.input_shape_2)\n",
    "        \n",
    "        # BRANCH 1\n",
    "        branch_1 = Embedding(self.n_players, self.emb_dim, trainable=True)(input_1)\n",
    "        \n",
    "        branch_1 = Dense(units=hp.Int('branch_11', \n",
    "                                      min_value=16, \n",
    "                                      max_value=128, \n",
    "                                      step=16),\n",
    "                         activation=hp.Choice('activation_11', \n",
    "                                              values=['relu', 'tanh', 'sigmoid'])\n",
    "                        )(branch_1)\n",
    "                \n",
    "        branch_1 = Dense(units=hp.Int('branch_12', \n",
    "                                      min_value=16, \n",
    "                                      max_value=128, \n",
    "                                      step=16),\n",
    "                         activation=hp.Choice('activation_12', \n",
    "                                              values=['relu', 'tanh', 'sigmoid'])\n",
    "                        )(branch_1)\n",
    "        \n",
    "        branch_1 = Flatten(data_format=None)(branch_1)\n",
    "        \n",
    "        branch_1 = Model(inputs=input_1, outputs=branch_1)\n",
    "        \n",
    "        # BRANCH 2\n",
    "        branch_2 = Dense(units=hp.Int('branch_21', \n",
    "                                      min_value=16, \n",
    "                                      max_value=128, \n",
    "                                      step=16),\n",
    "                         activation=hp.Choice('activation_21', \n",
    "                                              values=['relu', 'tanh', 'sigmoid'])\n",
    "                        )(input_2)\n",
    "                \n",
    "        branch_2 = Dense(units=hp.Int('branch_22', \n",
    "                                      min_value=16, \n",
    "                                      max_value=128, \n",
    "                                      step=16),\n",
    "                         activation=hp.Choice('activation_22', \n",
    "                                              values=['relu', 'tanh', 'sigmoid'])\n",
    "                        )(branch_2)\n",
    "        \n",
    "        branch_2 = Model(inputs=input_2, outputs=branch_2)\n",
    "        \n",
    "        # COMBINED BRANCH\n",
    "        input_combined = concatenate([branch_1.output, branch_2.output])\n",
    "        \n",
    "        branch_c = Dense(units=hp.Int('branch_c', \n",
    "                                      min_value=16, \n",
    "                                      max_value=128, \n",
    "                                      step=16),\n",
    "                         activation=hp.Choice('activation_c', \n",
    "                                              values=['relu', 'tanh', 'sigmoid'])\n",
    "                        )(input_combined)\n",
    "        \n",
    "        branch_c = Dense(units=1, activation=\"sigmoid\")(branch_c)\n",
    "        \n",
    "        model = Model(inputs=[branch_1.input, branch_2.input], outputs=branch_c)\n",
    "        \n",
    "        model.compile(\n",
    "            optimizer=optimizers.Adam(\n",
    "                learning_rate=hp.Float('learning_rate', \n",
    "                                       min_value=1e-4, \n",
    "                                       max_value=1e-2,\n",
    "                                       sampling='LOG')\n",
    "            ),\n",
    "            loss='binary_crossentropy',\n",
    "            metrics=[metrics.BinaryAccuracy(), metrics.AUC()]\n",
    "        )\n",
    "        \n",
    "        return model"
   ]
  },
  {
   "cell_type": "code",
   "execution_count": 25,
   "metadata": {},
   "outputs": [],
   "source": [
    "input_shape = [(X_train_player.shape[1],), (X_train_event.shape[1],)]\n",
    "n_players = len(load.Player.unique())\n",
    "emb_dim = 20\n",
    "\n",
    "hypermodel = Hypermodel(input_shape, n_players, emb_dim)"
   ]
  },
  {
   "cell_type": "markdown",
   "metadata": {},
   "source": [
    "## Hyperparameter Tuning"
   ]
  },
  {
   "cell_type": "code",
   "execution_count": 26,
   "metadata": {},
   "outputs": [],
   "source": [
    "import kerastuner\n",
    "from kerastuner.tuners import RandomSearch\n",
    "from keras.callbacks import EarlyStopping"
   ]
  },
  {
   "cell_type": "code",
   "execution_count": 27,
   "metadata": {},
   "outputs": [],
   "source": [
    "tuner = RandomSearch(\n",
    "    hypermodel,\n",
    "    objective=kerastuner.Objective(\"auc\", direction=\"max\"),\n",
    "    seed=1,\n",
    "    max_trials=20,\n",
    "    executions_per_trial=2,\n",
    "    directory='random_search',\n",
    "    overwrite=True\n",
    ")\n",
    "\n",
    "stop_early = EarlyStopping(monitor='val_loss', patience=5)"
   ]
  },
  {
   "cell_type": "code",
   "execution_count": 28,
   "metadata": {},
   "outputs": [
    {
     "name": "stdout",
     "output_type": "stream",
     "text": [
      "Search space summary\n",
      "Default search space size: 11\n",
      "branch_11 (Int)\n",
      "{'default': None, 'conditions': [], 'min_value': 16, 'max_value': 128, 'step': 16, 'sampling': None}\n",
      "activation_11 (Choice)\n",
      "{'default': 'relu', 'conditions': [], 'values': ['relu', 'tanh', 'sigmoid'], 'ordered': False}\n",
      "branch_12 (Int)\n",
      "{'default': None, 'conditions': [], 'min_value': 16, 'max_value': 128, 'step': 16, 'sampling': None}\n",
      "activation_12 (Choice)\n",
      "{'default': 'relu', 'conditions': [], 'values': ['relu', 'tanh', 'sigmoid'], 'ordered': False}\n",
      "branch_21 (Int)\n",
      "{'default': None, 'conditions': [], 'min_value': 16, 'max_value': 128, 'step': 16, 'sampling': None}\n",
      "activation_21 (Choice)\n",
      "{'default': 'relu', 'conditions': [], 'values': ['relu', 'tanh', 'sigmoid'], 'ordered': False}\n",
      "branch_22 (Int)\n",
      "{'default': None, 'conditions': [], 'min_value': 16, 'max_value': 128, 'step': 16, 'sampling': None}\n",
      "activation_22 (Choice)\n",
      "{'default': 'relu', 'conditions': [], 'values': ['relu', 'tanh', 'sigmoid'], 'ordered': False}\n",
      "branch_c (Int)\n",
      "{'default': None, 'conditions': [], 'min_value': 16, 'max_value': 128, 'step': 16, 'sampling': None}\n",
      "activation_c (Choice)\n",
      "{'default': 'relu', 'conditions': [], 'values': ['relu', 'tanh', 'sigmoid'], 'ordered': False}\n",
      "learning_rate (Float)\n",
      "{'default': 0.0001, 'conditions': [], 'min_value': 0.0001, 'max_value': 0.01, 'step': None, 'sampling': 'log'}\n"
     ]
    }
   ],
   "source": [
    "tuner.search_space_summary()"
   ]
  },
  {
   "cell_type": "code",
   "execution_count": 29,
   "metadata": {},
   "outputs": [
    {
     "name": "stdout",
     "output_type": "stream",
     "text": [
      "Trial 20 Complete [00h 00m 05s]\n",
      "auc: 0.8482710123062134\n",
      "\n",
      "Best auc So Far: 0.9534065127372742\n",
      "Total elapsed time: 00h 02m 01s\n",
      "INFO:tensorflow:Oracle triggered exit\n"
     ]
    }
   ],
   "source": [
    "N_EPOCH_SEARCH = 20\n",
    "tuner.search([np.array(X_train_player), np.array(X_train_event)], y_train, epochs=N_EPOCH_SEARCH, \n",
    "             validation_split=0.2, callbacks=[stop_early])"
   ]
  },
  {
   "cell_type": "code",
   "execution_count": 30,
   "metadata": {},
   "outputs": [
    {
     "name": "stdout",
     "output_type": "stream",
     "text": [
      "Results summary\n",
      "Results in random_search\\untitled_project\n",
      "Showing 1 best trials\n",
      "Objective(name='auc', direction='max')\n",
      "Trial summary\n",
      "Hyperparameters:\n",
      "branch_11: 48\n",
      "activation_11: relu\n",
      "branch_12: 16\n",
      "activation_12: tanh\n",
      "branch_21: 32\n",
      "activation_21: tanh\n",
      "branch_22: 64\n",
      "activation_22: relu\n",
      "branch_c: 80\n",
      "activation_c: tanh\n",
      "learning_rate: 0.001300398010371077\n",
      "Score: 0.9534065127372742\n"
     ]
    }
   ],
   "source": [
    "tuner.results_summary(1)"
   ]
  },
  {
   "cell_type": "markdown",
   "metadata": {},
   "source": [
    "## Final Model"
   ]
  },
  {
   "cell_type": "code",
   "execution_count": 32,
   "metadata": {},
   "outputs": [
    {
     "name": "stdout",
     "output_type": "stream",
     "text": [
      "Epoch 1/10\n",
      "45/45 [==============================] - 1s 9ms/step - loss: 0.2004 - binary_accuracy: 0.9475 - auc: 0.4776 - val_loss: 0.1694 - val_binary_accuracy: 0.9609 - val_auc: 0.5520\n",
      "Epoch 2/10\n",
      "45/45 [==============================] - 0s 2ms/step - loss: 0.1534 - binary_accuracy: 0.9629 - auc: 0.6885 - val_loss: 0.1658 - val_binary_accuracy: 0.9609 - val_auc: 0.6358\n",
      "Epoch 3/10\n",
      "45/45 [==============================] - 0s 2ms/step - loss: 0.1444 - binary_accuracy: 0.9629 - auc: 0.7548 - val_loss: 0.1722 - val_binary_accuracy: 0.9609 - val_auc: 0.6265\n",
      "Epoch 4/10\n",
      "45/45 [==============================] - 0s 2ms/step - loss: 0.1260 - binary_accuracy: 0.9629 - auc: 0.8538 - val_loss: 0.1775 - val_binary_accuracy: 0.9609 - val_auc: 0.6736\n",
      "Epoch 5/10\n",
      "45/45 [==============================] - 0s 2ms/step - loss: 0.1108 - binary_accuracy: 0.9629 - auc: 0.9052 - val_loss: 0.1823 - val_binary_accuracy: 0.9609 - val_auc: 0.6991\n",
      "Epoch 6/10\n",
      "45/45 [==============================] - 0s 2ms/step - loss: 0.1054 - binary_accuracy: 0.9643 - auc: 0.9155 - val_loss: 0.1919 - val_binary_accuracy: 0.9553 - val_auc: 0.6702\n",
      "Epoch 7/10\n",
      "45/45 [==============================] - 0s 2ms/step - loss: 0.0941 - binary_accuracy: 0.9629 - auc: 0.9477 - val_loss: 0.2130 - val_binary_accuracy: 0.9581 - val_auc: 0.6812\n",
      "Epoch 8/10\n",
      "45/45 [==============================] - 0s 2ms/step - loss: 0.0903 - binary_accuracy: 0.9657 - auc: 0.9464 - val_loss: 0.2172 - val_binary_accuracy: 0.9441 - val_auc: 0.6640\n",
      "Epoch 9/10\n",
      "45/45 [==============================] - 0s 2ms/step - loss: 0.0814 - binary_accuracy: 0.9692 - auc: 0.9553 - val_loss: 0.2280 - val_binary_accuracy: 0.9413 - val_auc: 0.6384\n",
      "Epoch 10/10\n",
      "45/45 [==============================] - 0s 2ms/step - loss: 0.0744 - binary_accuracy: 0.9748 - auc: 0.9641 - val_loss: 0.2376 - val_binary_accuracy: 0.9358 - val_auc: 0.6802\n"
     ]
    },
    {
     "data": {
      "text/plain": [
       "<tensorflow.python.keras.callbacks.History at 0x1c361c47190>"
      ]
     },
     "execution_count": 32,
     "metadata": {},
     "output_type": "execute_result"
    }
   ],
   "source": [
    "best_hyppar = tuner.get_best_hyperparameters(num_trials=1)[0]\n",
    "final_model = tuner.hypermodel.build(best_hyppar)\n",
    "final_model.fit([X_train_player, X_train_event], y_train, epochs=10, validation_split=0.2)"
   ]
  },
  {
   "cell_type": "code",
   "execution_count": 33,
   "metadata": {},
   "outputs": [
    {
     "name": "stdout",
     "output_type": "stream",
     "text": [
      "Model: \"model_2\"\n",
      "__________________________________________________________________________________________________\n",
      "Layer (type)                    Output Shape         Param #     Connected to                     \n",
      "==================================================================================================\n",
      "input_1 (InputLayer)            [(None, 3)]          0                                            \n",
      "__________________________________________________________________________________________________\n",
      "embedding (Embedding)           (None, 3, 20)        2520        input_1[0][0]                    \n",
      "__________________________________________________________________________________________________\n",
      "dense (Dense)                   (None, 3, 48)        1008        embedding[0][0]                  \n",
      "__________________________________________________________________________________________________\n",
      "input_2 (InputLayer)            [(None, 35)]         0                                            \n",
      "__________________________________________________________________________________________________\n",
      "dense_1 (Dense)                 (None, 3, 16)        784         dense[0][0]                      \n",
      "__________________________________________________________________________________________________\n",
      "dense_2 (Dense)                 (None, 32)           1152        input_2[0][0]                    \n",
      "__________________________________________________________________________________________________\n",
      "flatten (Flatten)               (None, 48)           0           dense_1[0][0]                    \n",
      "__________________________________________________________________________________________________\n",
      "dense_3 (Dense)                 (None, 64)           2112        dense_2[0][0]                    \n",
      "__________________________________________________________________________________________________\n",
      "concatenate (Concatenate)       (None, 112)          0           flatten[0][0]                    \n",
      "                                                                 dense_3[0][0]                    \n",
      "__________________________________________________________________________________________________\n",
      "dense_4 (Dense)                 (None, 80)           9040        concatenate[0][0]                \n",
      "__________________________________________________________________________________________________\n",
      "dense_5 (Dense)                 (None, 1)            81          dense_4[0][0]                    \n",
      "==================================================================================================\n",
      "Total params: 16,697\n",
      "Trainable params: 16,697\n",
      "Non-trainable params: 0\n",
      "__________________________________________________________________________________________________\n"
     ]
    }
   ],
   "source": [
    "final_model.summary()"
   ]
  },
  {
   "cell_type": "code",
   "execution_count": 35,
   "metadata": {},
   "outputs": [
    {
     "name": "stdout",
     "output_type": "stream",
     "text": [
      "7/7 [==============================] - 0s 1ms/step - loss: 0.3742 - binary_accuracy: 0.9095 - auc: 0.5099\n"
     ]
    }
   ],
   "source": [
    "loss, accuracy, auc = final_model.evaluate([X_test_player, X_test_event], y_test)"
   ]
  },
  {
   "cell_type": "code",
   "execution_count": 36,
   "metadata": {},
   "outputs": [],
   "source": [
    "from sklearn.metrics import confusion_matrix\n",
    "from sklearn.metrics import roc_auc_score"
   ]
  },
  {
   "cell_type": "code",
   "execution_count": 38,
   "metadata": {},
   "outputs": [],
   "source": [
    "pred = final_model.predict([X_test_player, X_test_event])\n",
    "pred = (pred >= 0.5).astype('uint8')"
   ]
  },
  {
   "cell_type": "code",
   "execution_count": 39,
   "metadata": {},
   "outputs": [
    {
     "data": {
      "text/plain": [
       "array([[181,   9],\n",
       "       [  9,   0]], dtype=int64)"
      ]
     },
     "execution_count": 39,
     "metadata": {},
     "output_type": "execute_result"
    }
   ],
   "source": [
    "cm = confusion_matrix(y_test, pred)\n",
    "cm"
   ]
  },
  {
   "cell_type": "code",
   "execution_count": 40,
   "metadata": {},
   "outputs": [
    {
     "data": {
      "text/plain": [
       "0.4763157894736842"
      ]
     },
     "execution_count": 40,
     "metadata": {},
     "output_type": "execute_result"
    }
   ],
   "source": [
    "roc_auc_score(y_test, pred)"
   ]
  },
  {
   "cell_type": "markdown",
   "metadata": {},
   "source": [
    "## Player Embeddings"
   ]
  },
  {
   "cell_type": "code",
   "execution_count": 43,
   "metadata": {},
   "outputs": [],
   "source": [
    "embs = final_model.layers[1].get_weights()[0]"
   ]
  },
  {
   "cell_type": "code",
   "execution_count": 44,
   "metadata": {},
   "outputs": [
    {
     "data": {
      "text/plain": [
       "(126, 20)"
      ]
     },
     "execution_count": 44,
     "metadata": {},
     "output_type": "execute_result"
    }
   ],
   "source": [
    "embs.shape"
   ]
  },
  {
   "cell_type": "code",
   "execution_count": 45,
   "metadata": {},
   "outputs": [],
   "source": [
    "from sklearn.metrics.pairwise import cosine_similarity\n",
    "import matplotlib.pyplot as plt"
   ]
  },
  {
   "cell_type": "code",
   "execution_count": 46,
   "metadata": {
    "scrolled": true
   },
   "outputs": [
    {
     "data": {
      "image/png": "[encoded data removed]",
      "text/plain": [
       "<Figure size 288x288 with 2 Axes>"
      ]
     },
     "metadata": {
      "needs_background": "light"
     },
     "output_type": "display_data"
    }
   ],
   "source": [
    "cos_sim = cosine_similarity(embs)\n",
    "plt.matshow(cos_sim)\n",
    "plt.colorbar()\n",
    "plt.show()"
   ]
  },
  {
   "cell_type": "code",
   "execution_count": 47,
   "metadata": {
    "scrolled": false
   },
   "outputs": [
    {
     "data": {
      "image/png": "[encoded data removed]",
      "text/plain": [
       "<Figure size 432x288 with 1 Axes>"
      ]
     },
     "metadata": {
      "needs_background": "light"
     },
     "output_type": "display_data"
    }
   ],
   "source": [
    "upp_tri = np.triu_indices(cos_sim.shape[0], 1)\n",
    "plt.hist(cos_sim[upp_tri], bins=200)\n",
    "plt.show()"
   ]
  },
  {
   "cell_type": "code",
   "execution_count": 145,
   "metadata": {},
   "outputs": [],
   "source": [
    "def get_player_with_affinity(affinity, cos_sim, threshold):\n",
    "    \"\"\"Get a player pair within +/- threshold of the given affinity.\n",
    "    If more than one pair, randomly selects a pair.\"\"\"\n",
    "    upp_tri_indx = np.triu_indices(cos_sim.shape[0], 1)\n",
    "    upp_tri = cos_sim[upp_tri_indx]\n",
    "    \n",
    "    if isinstance(affinity, float):\n",
    "        all_indx = np.where((upp_tri < affinity + threshold) & (upp_tri > affinity - threshold))[0]\n",
    "        indx = random.choice(all_indx)\n",
    "    elif affinity == \"max\":\n",
    "        indx = np.argmax(upp_tri)\n",
    "    elif affinity == \"min\":\n",
    "        indx = np.argmin(upp_tri)\n",
    "    else:\n",
    "        return \"Invalid affinity value. Input a float or 'min', 'max'\"\n",
    "\n",
    "    p1 = load.Player.unique()[upp_tri_indx[0][indx]]\n",
    "    p2 = load.Player.unique()[upp_tri_indx[1][indx]]\n",
    "    t1 = load.Team[load.Player == p1].unique()[0]\n",
    "    t2 = load.Team[load.Player == p2].unique()[0]\n",
    "    print(\"{} ({}) & {} ({}) has affinity {}\".format(p1, t1, p2, t2, upp_tri[indx]))"
   ]
  },
  {
   "cell_type": "code",
   "execution_count": 172,
   "metadata": {},
   "outputs": [
    {
     "name": "stdout",
     "output_type": "stream",
     "text": [
      "Carlee Turner (Boston Pride) & Lovisa Selander (Boston Pride) has affinity 0.6929029822349548\n"
     ]
    }
   ],
   "source": [
    "get_player_with_affinity(0.7, cos_sim, 0.01)"
   ]
  },
  {
   "cell_type": "code",
   "execution_count": 53,
   "metadata": {},
   "outputs": [],
   "source": [
    "def get_affinity(player_1, player_2, cos_sim):\n",
    "    \"\"\"Returns the cosine similarity between the vector embeddings\n",
    "    of <player_1> and <player_2>.\n",
    "    \n",
    "    Arguments:\n",
    "    player_1, player_2 -- names of player 1 and 2\n",
    "    cos_sim -- cosine similarity matrix\n",
    "    \"\"\"\n",
    "    id_1 = np.where(load.Player.unique() == player_1)[0][0]\n",
    "    id_2 = np.where(load.Player.unique() == player_2)[0][0]\n",
    "    \n",
    "    return cos_sim[id_1, id_2]"
   ]
  },
  {
   "cell_type": "code",
   "execution_count": 62,
   "metadata": {},
   "outputs": [
    {
     "data": {
      "text/plain": [
       "0.49591717"
      ]
     },
     "execution_count": 62,
     "metadata": {},
     "output_type": "execute_result"
    }
   ],
   "source": [
    "# affinity of specific pair\n",
    "get_affinity('Kaleigh Fratkin', 'Mallory Souliotis', cos_sim)"
   ]
  }
 ],
 "metadata": {
  "kernelspec": {
   "display_name": "Python 3",
   "language": "python",
   "name": "python3"
  },
  "language_info": {
   "codemirror_mode": {
    "name": "ipython",
    "version": 3
   },
   "file_extension": ".py",
   "mimetype": "text/x-python",
   "name": "python",
   "nbconvert_exporter": "python",
   "pygments_lexer": "ipython3",
   "version": "3.8.5"
  }
 },
 "nbformat": 4,
 "nbformat_minor": 4
}

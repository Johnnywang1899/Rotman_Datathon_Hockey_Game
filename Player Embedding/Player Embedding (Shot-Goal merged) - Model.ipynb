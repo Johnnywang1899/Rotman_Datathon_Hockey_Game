{
 "cells": [
  {
   "cell_type": "code",
   "execution_count": 1,
   "metadata": {},
   "outputs": [],
   "source": [
    "import numpy as np\n",
    "import pandas as pd\n",
    "import pickle"
   ]
  },
  {
   "cell_type": "code",
   "execution_count": 2,
   "metadata": {},
   "outputs": [],
   "source": [
    "path = (\"C:/Users/Ong Jia Yi/Desktop/STUDY/Summer 2021\"\n",
    "        \"/Rotman MMA Summer 2021 Datathon\")\n",
    "\n",
    "load = pd.read_csv(path + \"/NWHL.csv\")"
   ]
  },
  {
   "cell_type": "code",
   "execution_count": 3,
   "metadata": {},
   "outputs": [],
   "source": [
    "data = pickle.load(open(\"DATA_shot_goal_merged.p\", \"rb\"))"
   ]
  },
  {
   "cell_type": "code",
   "execution_count": 4,
   "metadata": {},
   "outputs": [],
   "source": [
    "X_train_player = data['X_train_player']\n",
    "X_train_event = data['X_train_event']\n",
    "y_train = data['y_train']\n",
    "X_test_player = data['X_test_player']\n",
    "X_test_event = data['X_test_event']\n",
    "y_test = data['y_test']"
   ]
  },
  {
   "cell_type": "code",
   "execution_count": 5,
   "metadata": {},
   "outputs": [
    {
     "data": {
      "text/plain": [
       "(24191, 63)"
      ]
     },
     "execution_count": 5,
     "metadata": {},
     "output_type": "execute_result"
    }
   ],
   "source": [
    "X_train_event.shape"
   ]
  },
  {
   "cell_type": "code",
   "execution_count": 6,
   "metadata": {},
   "outputs": [
    {
     "data": {
      "text/plain": [
       "(2688, 63)"
      ]
     },
     "execution_count": 6,
     "metadata": {},
     "output_type": "execute_result"
    }
   ],
   "source": [
    "X_test_event.shape"
   ]
  },
  {
   "cell_type": "code",
   "execution_count": 7,
   "metadata": {},
   "outputs": [
    {
     "data": {
      "text/plain": [
       "(24191,)"
      ]
     },
     "execution_count": 7,
     "metadata": {},
     "output_type": "execute_result"
    }
   ],
   "source": [
    "y_train.shape"
   ]
  },
  {
   "cell_type": "markdown",
   "metadata": {},
   "source": [
    "## Mixed Data Neural Network"
   ]
  },
  {
   "cell_type": "code",
   "execution_count": 8,
   "metadata": {},
   "outputs": [],
   "source": [
    "from kerastuner import HyperModel\n",
    "\n",
    "import tensorflow\n",
    "from tensorflow import keras\n",
    "from tensorflow.keras import Sequential, Model\n",
    "from tensorflow.keras.layers import (Embedding, Input, Dense,\n",
    "                                     Dropout, Flatten, concatenate)\n",
    "from tensorflow.keras import optimizers\n",
    "from tensorflow.keras import metrics"
   ]
  },
  {
   "cell_type": "code",
   "execution_count": 9,
   "metadata": {},
   "outputs": [],
   "source": [
    "class Hypermodel(HyperModel):\n",
    "    def __init__(self, input_shapes, n_players, emb_dim, n_class):\n",
    "        self.input_shape_1 = input_shapes[0]\n",
    "        self.input_shape_2 = input_shapes[1]\n",
    "        self.n_players = n_players\n",
    "        self.emb_dim = emb_dim\n",
    "        self.n_class = n_class\n",
    "        \n",
    "    def build(self, hp):\n",
    "        input_1 = Input(shape=self.input_shape_1)\n",
    "        input_2 = Input(shape=self.input_shape_2)\n",
    "        \n",
    "        # BRANCH 1\n",
    "        branch_1 = Embedding(self.n_players, self.emb_dim, \n",
    "                             input_length=self.input_shape_1, trainable=True)(input_1)\n",
    "        \n",
    "        branch_1 = Dense(units=hp.Int('branch_11', \n",
    "                                      min_value=16, \n",
    "                                      max_value=128, \n",
    "                                      step=4),\n",
    "                         activation=hp.Choice('activation_11', \n",
    "                                              values=['relu', 'tanh', 'sigmoid'])\n",
    "                        )(branch_1)\n",
    "                \n",
    "        branch_1 = Dense(units=hp.Int('branch_12', \n",
    "                                      min_value=16, \n",
    "                                      max_value=128, \n",
    "                                      step=4),\n",
    "                         activation=hp.Choice('activation_12', \n",
    "                                              values=['relu', 'tanh', 'sigmoid'])\n",
    "                        )(branch_1)\n",
    "        \n",
    "        branch_1 = Dropout(rate=hp.Float('dropout_1',\n",
    "                                         min_value=0.0,\n",
    "                                         max_value=0.5,\n",
    "                                         step=0.05)\n",
    "                          )(branch_1)\n",
    "        \n",
    "        branch_1 = Flatten(data_format=None)(branch_1)\n",
    "        \n",
    "        branch_1 = Model(inputs=input_1, outputs=branch_1)\n",
    "        \n",
    "        # BRANCH 2\n",
    "        branch_2 = Dense(units=hp.Int('branch_21', \n",
    "                                      min_value=16, \n",
    "                                      max_value=128, \n",
    "                                      step=4),\n",
    "                         activation=hp.Choice('activation_21', \n",
    "                                              values=['relu', 'tanh', 'sigmoid'])\n",
    "                        )(input_2)\n",
    "                \n",
    "        branch_2 = Dense(units=hp.Int('branch_22', \n",
    "                                      min_value=16, \n",
    "                                      max_value=128, \n",
    "                                      step=4),\n",
    "                         activation=hp.Choice('activation_22', \n",
    "                                              values=['relu', 'tanh', 'sigmoid'])\n",
    "                        )(branch_2)\n",
    "        branch_2 = Dropout(rate=hp.Float('dropout_2',\n",
    "                                         min_value=0.0,\n",
    "                                         max_value=0.5,\n",
    "                                         step=0.05)\n",
    "                          )(branch_2)\n",
    "        \n",
    "        branch_2 = Model(inputs=input_2, outputs=branch_2)\n",
    "        \n",
    "        # COMBINED BRANCH\n",
    "        input_combined = concatenate([branch_1.output, branch_2.output])\n",
    "        \n",
    "        branch_c = Dense(units=hp.Int('branch_c1', \n",
    "                                      min_value=16, \n",
    "                                      max_value=128, \n",
    "                                      step=4),\n",
    "                         activation=hp.Choice('activation_c', \n",
    "                                              values=['relu', 'tanh', 'sigmoid'])\n",
    "                        )(input_combined)\n",
    "        \n",
    "        branch_c = Dense(units=hp.Int('branch_c2', \n",
    "                                      min_value=16, \n",
    "                                      max_value=128, \n",
    "                                      step=4),\n",
    "                         activation=hp.Choice('activation_c', \n",
    "                                              values=['relu', 'tanh', 'sigmoid'])\n",
    "                        )(branch_c)\n",
    "        \n",
    "        branch_c = Dropout(rate=hp.Float('dropout_c',\n",
    "                                         min_value=0.0,\n",
    "                                         max_value=0.5,\n",
    "                                         step=0.05)\n",
    "                          )(branch_c)\n",
    "        \n",
    "        if self.n_class == 2:\n",
    "            units, activation = (1, 'sigmoid')\n",
    "            loss, metric = ('binary_crossentropy', [metrics.BinaryAccuracy()])\n",
    "        elif isinstance(self.n_class, int) & self.n_class > 2:\n",
    "            units, activation = (self.n_class, 'softmax')\n",
    "            loss, metric = ('categorical_crossentropy', [metrics.CategoricalAccuracy()])\n",
    "        else:\n",
    "            return \"Invalid input for <n_class>\"\n",
    "            \n",
    "        branch_c = Dense(units=units, activation=activation)(branch_c)\n",
    "        \n",
    "        model = Model(inputs=[branch_1.input, branch_2.input], outputs=branch_c)\n",
    "        \n",
    "        model.compile(\n",
    "            optimizer=optimizers.Adam(\n",
    "                learning_rate=hp.Float('learning_rate', \n",
    "                                       min_value=1e-4, \n",
    "                                       max_value=1e-2,\n",
    "                                       sampling='LOG')\n",
    "            ),\n",
    "            loss=loss, metrics=metric + [metrics.AUC(), metrics.TruePositives()]\n",
    "        )\n",
    "        \n",
    "        return model"
   ]
  },
  {
   "cell_type": "code",
   "execution_count": 10,
   "metadata": {},
   "outputs": [],
   "source": [
    "input_shape = [(X_train_player.shape[1],), (X_train_event.shape[1],)]\n",
    "n_players = len(load.Player.unique())\n",
    "emb_dim = 50\n",
    "n_class = 2\n",
    "\n",
    "hypermodel = Hypermodel(input_shape, n_players, emb_dim, n_class)"
   ]
  },
  {
   "cell_type": "markdown",
   "metadata": {},
   "source": [
    "## Hyperparameter Tuning"
   ]
  },
  {
   "cell_type": "code",
   "execution_count": 11,
   "metadata": {},
   "outputs": [],
   "source": [
    "import kerastuner\n",
    "from kerastuner.tuners import RandomSearch\n",
    "from keras.callbacks import EarlyStopping"
   ]
  },
  {
   "cell_type": "code",
   "execution_count": 12,
   "metadata": {},
   "outputs": [],
   "source": [
    "tuner = RandomSearch(\n",
    "    hypermodel,\n",
    "    objective=kerastuner.Objective(\"val_true_positives\", direction=\"max\"),\n",
    "    seed=1,\n",
    "    max_trials=200,\n",
    "    executions_per_trial=2,\n",
    "    directory='random_search',\n",
    "    overwrite=True\n",
    ")\n",
    "\n",
    "stop_early = EarlyStopping(monitor='val_true_positives', mode='max',\n",
    "                           patience=100, restore_best_weights=True)"
   ]
  },
  {
   "cell_type": "code",
   "execution_count": 13,
   "metadata": {},
   "outputs": [
    {
     "name": "stdout",
     "output_type": "stream",
     "text": [
      "Search space summary\n",
      "Default search space size: 15\n",
      "branch_11 (Int)\n",
      "{'default': None, 'conditions': [], 'min_value': 16, 'max_value': 128, 'step': 4, 'sampling': None}\n",
      "activation_11 (Choice)\n",
      "{'default': 'relu', 'conditions': [], 'values': ['relu', 'tanh', 'sigmoid'], 'ordered': False}\n",
      "branch_12 (Int)\n",
      "{'default': None, 'conditions': [], 'min_value': 16, 'max_value': 128, 'step': 4, 'sampling': None}\n",
      "activation_12 (Choice)\n",
      "{'default': 'relu', 'conditions': [], 'values': ['relu', 'tanh', 'sigmoid'], 'ordered': False}\n",
      "dropout_1 (Float)\n",
      "{'default': 0.0, 'conditions': [], 'min_value': 0.0, 'max_value': 0.5, 'step': 0.05, 'sampling': None}\n",
      "branch_21 (Int)\n",
      "{'default': None, 'conditions': [], 'min_value': 16, 'max_value': 128, 'step': 4, 'sampling': None}\n",
      "activation_21 (Choice)\n",
      "{'default': 'relu', 'conditions': [], 'values': ['relu', 'tanh', 'sigmoid'], 'ordered': False}\n",
      "branch_22 (Int)\n",
      "{'default': None, 'conditions': [], 'min_value': 16, 'max_value': 128, 'step': 4, 'sampling': None}\n",
      "activation_22 (Choice)\n",
      "{'default': 'relu', 'conditions': [], 'values': ['relu', 'tanh', 'sigmoid'], 'ordered': False}\n",
      "dropout_2 (Float)\n",
      "{'default': 0.0, 'conditions': [], 'min_value': 0.0, 'max_value': 0.5, 'step': 0.05, 'sampling': None}\n",
      "branch_c1 (Int)\n",
      "{'default': None, 'conditions': [], 'min_value': 16, 'max_value': 128, 'step': 4, 'sampling': None}\n",
      "activation_c (Choice)\n",
      "{'default': 'relu', 'conditions': [], 'values': ['relu', 'tanh', 'sigmoid'], 'ordered': False}\n",
      "branch_c2 (Int)\n",
      "{'default': None, 'conditions': [], 'min_value': 16, 'max_value': 128, 'step': 4, 'sampling': None}\n",
      "dropout_c (Float)\n",
      "{'default': 0.0, 'conditions': [], 'min_value': 0.0, 'max_value': 0.5, 'step': 0.05, 'sampling': None}\n",
      "learning_rate (Float)\n",
      "{'default': 0.0001, 'conditions': [], 'min_value': 0.0001, 'max_value': 0.01, 'step': None, 'sampling': 'log'}\n"
     ]
    }
   ],
   "source": [
    "tuner.search_space_summary()"
   ]
  },
  {
   "cell_type": "code",
   "execution_count": 14,
   "metadata": {},
   "outputs": [],
   "source": [
    "# N_EPOCH_SEARCH = 300\n",
    "# tuner.search([np.array(X_train_player), np.array(X_train_event)], y_train, \n",
    "#              epochs=N_EPOCH_SEARCH, validation_split=0.3,\n",
    "#              callbacks=[stop_early])\n",
    "# pickle.dump(tuner, open(\"tuner_300_137_2.p\", \"wb\"))"
   ]
  },
  {
   "cell_type": "code",
   "execution_count": 15,
   "metadata": {},
   "outputs": [],
   "source": [
    "tuner = pickle.load(open(\"tuner_300_137_2.p\", \"rb\"))"
   ]
  },
  {
   "cell_type": "code",
   "execution_count": 16,
   "metadata": {},
   "outputs": [
    {
     "name": "stdout",
     "output_type": "stream",
     "text": [
      "Results summary\n",
      "Results in random_search\\untitled_project\n",
      "Showing 1 best trials\n",
      "Objective(name='val_true_positives', direction='max')\n",
      "Trial summary\n",
      "Hyperparameters:\n",
      "branch_11: 92\n",
      "activation_11: relu\n",
      "branch_12: 128\n",
      "activation_12: relu\n",
      "dropout_1: 0.4\n",
      "branch_21: 84\n",
      "activation_21: sigmoid\n",
      "branch_22: 76\n",
      "activation_22: tanh\n",
      "dropout_2: 0.45\n",
      "branch_c1: 104\n",
      "activation_c: relu\n",
      "branch_c2: 28\n",
      "dropout_c: 0.30000000000000004\n",
      "learning_rate: 0.0001420663669772626\n",
      "Score: 201.0\n"
     ]
    }
   ],
   "source": [
    "tuner.results_summary(1)"
   ]
  },
  {
   "cell_type": "markdown",
   "metadata": {},
   "source": [
    "## Tune Optimal Epochs"
   ]
  },
  {
   "cell_type": "code",
   "execution_count": 17,
   "metadata": {
    "scrolled": true
   },
   "outputs": [],
   "source": [
    "best_hyppar = tuner.get_best_hyperparameters(num_trials=1)[0]\n",
    "# final_model = tuner.hypermodel.build(best_hyppar)\n",
    "# history = final_model.fit([X_train_player, X_train_event], y_train, epochs=500, validation_split=0.3)\n",
    "# pickle.dump(history.history, open(\"history_300_137_2.p\", \"wb\"))"
   ]
  },
  {
   "cell_type": "code",
   "execution_count": 18,
   "metadata": {},
   "outputs": [],
   "source": [
    "history = pickle.load(open(\"history_300_137_2.p\", \"rb\"))"
   ]
  },
  {
   "cell_type": "code",
   "execution_count": 19,
   "metadata": {},
   "outputs": [],
   "source": [
    "path2 = (\"C:/Users/Ong Jia Yi/Desktop/STUDY/Summer 2021\"\n",
    "        \"/Rotman MMA Summer 2021 Datathon/Player Embedding\")"
   ]
  },
  {
   "cell_type": "code",
   "execution_count": 20,
   "metadata": {},
   "outputs": [
    {
     "data": {
      "image/png": "[encoded data removed]",
      "text/plain": [
       "<Figure size 432x288 with 1 Axes>"
      ]
     },
     "metadata": {
      "needs_background": "light"
     },
     "output_type": "display_data"
    }
   ],
   "source": [
    "import matplotlib.pyplot as plt\n",
    "\n",
    "plt.plot(history['binary_accuracy'])\n",
    "plt.plot(history['val_binary_accuracy'])\n",
    "plt.title('model accuracy')\n",
    "plt.ylabel('accuracy')\n",
    "plt.xlabel('epoch')\n",
    "plt.legend(['train', 'validation'], loc='upper left')\n",
    "plt.grid()\n",
    "plt.savefig(path2 + \"/img_accuracy.png\")\n",
    "plt.show()"
   ]
  },
  {
   "cell_type": "code",
   "execution_count": 21,
   "metadata": {},
   "outputs": [
    {
     "data": {
      "image/png": "[encoded data removed]",
      "text/plain": [
       "<Figure size 432x288 with 1 Axes>"
      ]
     },
     "metadata": {
      "needs_background": "light"
     },
     "output_type": "display_data"
    }
   ],
   "source": [
    "plt.plot(history['true_positives'])\n",
    "plt.plot(history['val_true_positives'])\n",
    "plt.title('model TP')\n",
    "plt.ylabel('TP')\n",
    "plt.xlabel('epoch')\n",
    "plt.legend(['train', 'validation'], loc='upper left')\n",
    "plt.grid()\n",
    "plt.savefig(path2 + \"/img_TP.png\")\n",
    "plt.show()"
   ]
  },
  {
   "cell_type": "code",
   "execution_count": 22,
   "metadata": {},
   "outputs": [
    {
     "data": {
      "image/png": "[encoded data removed]",
      "text/plain": [
       "<Figure size 432x288 with 1 Axes>"
      ]
     },
     "metadata": {
      "needs_background": "light"
     },
     "output_type": "display_data"
    }
   ],
   "source": [
    "plt.plot(history['auc'])\n",
    "plt.plot(history['val_auc'])\n",
    "plt.title('model AUC')\n",
    "plt.ylabel('AUC')\n",
    "plt.xlabel('epoch')\n",
    "plt.legend(['train', 'validation'], loc='upper left')\n",
    "plt.grid()\n",
    "plt.savefig(path2 + \"/img_TP.png\")\n",
    "plt.show()"
   ]
  },
  {
   "cell_type": "code",
   "execution_count": 23,
   "metadata": {},
   "outputs": [
    {
     "data": {
      "image/png": "[encoded data removed]",
      "text/plain": [
       "<Figure size 432x288 with 1 Axes>"
      ]
     },
     "metadata": {
      "needs_background": "light"
     },
     "output_type": "display_data"
    }
   ],
   "source": [
    "plt.plot(history['loss'])\n",
    "plt.plot(history['val_loss'])\n",
    "plt.title('model loss')\n",
    "plt.ylabel('loss')\n",
    "plt.xlabel('epoch')\n",
    "plt.legend(['train', 'validation'], loc='upper left')\n",
    "plt.grid()\n",
    "plt.savefig(path2 + \"/img_loss.png\")\n",
    "plt.show()"
   ]
  },
  {
   "cell_type": "markdown",
   "metadata": {},
   "source": [
    "## Final Model"
   ]
  },
  {
   "cell_type": "code",
   "execution_count": 24,
   "metadata": {},
   "outputs": [],
   "source": [
    "# optimal_epoch = 200\n",
    "# final_model = tuner.hypermodel.build(best_hyppar)\n",
    "# final_model.fit([X_train_player, X_train_event], y_train, epochs=optimal_epoch, validation_split=0.3)\n",
    "# final_model.save(path2)"
   ]
  },
  {
   "cell_type": "code",
   "execution_count": 25,
   "metadata": {},
   "outputs": [],
   "source": [
    "final_model = keras.models.load_model(path2)"
   ]
  },
  {
   "cell_type": "code",
   "execution_count": 26,
   "metadata": {},
   "outputs": [
    {
     "data": {
      "text/plain": [
       "179.0"
      ]
     },
     "execution_count": 26,
     "metadata": {},
     "output_type": "execute_result"
    }
   ],
   "source": [
    "np.sum(y_test)"
   ]
  },
  {
   "cell_type": "code",
   "execution_count": 27,
   "metadata": {},
   "outputs": [
    {
     "name": "stdout",
     "output_type": "stream",
     "text": [
      "84/84 [==============================] - 1s 2ms/step - loss: 0.3559 - binary_accuracy: 0.8981 - auc: 0.8128 - true_positives: 49.0000\n"
     ]
    }
   ],
   "source": [
    "loss, acc, auc, TP = final_model.evaluate([X_test_player, X_test_event], y_test)"
   ]
  },
  {
   "cell_type": "markdown",
   "metadata": {},
   "source": [
    "#### Manual Computation of Metrics"
   ]
  },
  {
   "cell_type": "code",
   "execution_count": 28,
   "metadata": {},
   "outputs": [],
   "source": [
    "from sklearn.metrics import confusion_matrix\n",
    "from sklearn.metrics import roc_auc_score, accuracy_score, roc_curve"
   ]
  },
  {
   "cell_type": "code",
   "execution_count": 29,
   "metadata": {},
   "outputs": [
    {
     "name": "stdout",
     "output_type": "stream",
     "text": [
      "Accuracy: 0.8981 | AUC: 0.8593\n"
     ]
    }
   ],
   "source": [
    "probs = final_model.predict([X_test_player, X_test_event])\n",
    "pred = (probs >= 0.5).astype('uint8')\n",
    "\n",
    "a = accuracy_score(y_test, pred)\n",
    "b = roc_auc_score(y_test, probs)\n",
    "print(\"Accuracy: {} | AUC: {}\".format(round(a, 4), round(b,4 )))"
   ]
  },
  {
   "cell_type": "code",
   "execution_count": 30,
   "metadata": {},
   "outputs": [
    {
     "data": {
      "text/plain": [
       "array([[2365,  144],\n",
       "       [ 130,   49]], dtype=int64)"
      ]
     },
     "execution_count": 30,
     "metadata": {},
     "output_type": "execute_result"
    }
   ],
   "source": [
    "cm = confusion_matrix(y_test, pred)\n",
    "cm"
   ]
  },
  {
   "cell_type": "code",
   "execution_count": 31,
   "metadata": {},
   "outputs": [
    {
     "name": "stdout",
     "output_type": "stream",
     "text": [
      "Sensitivity: 0.2737430167597765 | Specificity: 0.9426066161817457\n"
     ]
    }
   ],
   "source": [
    "sens = cm[1,1] / (cm[1,0] + cm[1,1])\n",
    "spec = cm[0,0] / (cm[0,0] + cm[0,1])\n",
    "print(\"Sensitivity: {} | Specificity: {}\".format(sens, spec))"
   ]
  },
  {
   "cell_type": "code",
   "execution_count": 32,
   "metadata": {},
   "outputs": [],
   "source": [
    "fpr, tpr, thresholds = roc_curve(y_test, probs)"
   ]
  },
  {
   "cell_type": "code",
   "execution_count": 33,
   "metadata": {},
   "outputs": [
    {
     "data": {
      "image/png": "[encoded data removed]",
      "text/plain": [
       "<Figure size 432x288 with 1 Axes>"
      ]
     },
     "metadata": {
      "needs_background": "light"
     },
     "output_type": "display_data"
    }
   ],
   "source": [
    "plt.plot(fpr, tpr, label=\"Model\")\n",
    "plt.plot(np.arange(0,1,0.01), np.arange(0,1,0.01), label=\"Random\")\n",
    "plt.xlabel('False Positive Rate')\n",
    "plt.ylabel('True Positive Rate')\n",
    "plt.grid()\n",
    "plt.legend()\n",
    "plt.show()"
   ]
  },
  {
   "cell_type": "markdown",
   "metadata": {},
   "source": [
    "## Player Embeddings"
   ]
  },
  {
   "cell_type": "code",
   "execution_count": 34,
   "metadata": {},
   "outputs": [],
   "source": [
    "# run or load\n",
    "# embs = final_model.layers[1].get_weights()[0]\n",
    "# pickle.dump(embs, open(\"embs_300_137_2.p\", \"wb\"))\n",
    "# np.savetxt(\"player_embeddings.csv\", embs, delimiter=\",\")\n",
    "\n",
    "embs = pickle.load(open(\"embs_300_137_2.p\", \"rb\"))"
   ]
  },
  {
   "cell_type": "code",
   "execution_count": 35,
   "metadata": {},
   "outputs": [
    {
     "data": {
      "text/plain": [
       "(126, 50)"
      ]
     },
     "execution_count": 35,
     "metadata": {},
     "output_type": "execute_result"
    }
   ],
   "source": [
    "embs.shape"
   ]
  },
  {
   "cell_type": "code",
   "execution_count": 36,
   "metadata": {},
   "outputs": [],
   "source": [
    "from sklearn.metrics.pairwise import cosine_similarity\n",
    "import random"
   ]
  },
  {
   "cell_type": "code",
   "execution_count": 37,
   "metadata": {},
   "outputs": [
    {
     "data": {
      "image/png": "[encoded data removed]",
      "text/plain": [
       "<Figure size 288x288 with 2 Axes>"
      ]
     },
     "metadata": {
      "needs_background": "light"
     },
     "output_type": "display_data"
    }
   ],
   "source": [
    "cos_sim = cosine_similarity(embs)\n",
    "plt.matshow(cos_sim)\n",
    "plt.colorbar()\n",
    "plt.show()"
   ]
  },
  {
   "cell_type": "code",
   "execution_count": 38,
   "metadata": {},
   "outputs": [],
   "source": [
    "np.savetxt(\"cosine_similarity.csv\", cos_sim, delimiter=\",\")"
   ]
  },
  {
   "cell_type": "code",
   "execution_count": 39,
   "metadata": {
    "scrolled": false
   },
   "outputs": [
    {
     "data": {
      "image/png": "[encoded data removed]",
      "text/plain": [
       "<Figure size 432x288 with 1 Axes>"
      ]
     },
     "metadata": {
      "needs_background": "light"
     },
     "output_type": "display_data"
    }
   ],
   "source": [
    "upp_tri = np.triu_indices(cos_sim.shape[0], 1)\n",
    "plt.hist(cos_sim[upp_tri], bins=200)\n",
    "plt.show()"
   ]
  },
  {
   "cell_type": "markdown",
   "metadata": {},
   "source": [
    "### Interpret Embedding"
   ]
  },
  {
   "cell_type": "code",
   "execution_count": 40,
   "metadata": {},
   "outputs": [],
   "source": [
    "all_players = list(load.Player.unique())\n",
    "pd.DataFrame(all_players, columns=['player']).to_csv('player_order.csv', index=False)"
   ]
  },
  {
   "cell_type": "code",
   "execution_count": 41,
   "metadata": {},
   "outputs": [],
   "source": [
    "def get_player_with_affinity(affinity, cos_sim, threshold):\n",
    "    \"\"\"Get a player pair within +/- threshold of the given affinity.\n",
    "    If more than one pair, randomly selects a pair.\"\"\"\n",
    "    upp_tri_indx = np.triu_indices(cos_sim.shape[0], 1)\n",
    "    upp_tri = cos_sim[upp_tri_indx]\n",
    "    \n",
    "    if isinstance(affinity, float):\n",
    "        all_indx = np.where((upp_tri < affinity + threshold) & (upp_tri > affinity - threshold))[0]\n",
    "        indx = random.choice(all_indx)\n",
    "    elif affinity == \"max\":\n",
    "        indx = np.argmax(upp_tri)\n",
    "    elif affinity == \"min\":\n",
    "        indx = np.argmin(upp_tri)\n",
    "    else:\n",
    "        return \"Invalid affinity value. Input a float or 'min', 'max'\"\n",
    "\n",
    "    p1 = all_players[upp_tri_indx[0][indx]]\n",
    "    p2 = all_players[upp_tri_indx[1][indx]]\n",
    "    t1 = load.Team[load.Player == p1].unique()[0]\n",
    "    t2 = load.Team[load.Player == p2].unique()[0]\n",
    "    print(\"{} ({}) & {} ({}) has affinity {}\".format(p1, t1, p2, t2, upp_tri[indx]))"
   ]
  },
  {
   "cell_type": "code",
   "execution_count": 42,
   "metadata": {},
   "outputs": [
    {
     "name": "stdout",
     "output_type": "stream",
     "text": [
      "Victoria Hanson (Boston Pride) & Tera Hofmann (Metropolitan Riveters) has affinity 0.9620693325996399\n"
     ]
    }
   ],
   "source": [
    "get_player_with_affinity('max', cos_sim, 0.01)"
   ]
  },
  {
   "cell_type": "code",
   "execution_count": 43,
   "metadata": {},
   "outputs": [],
   "source": [
    "def get_affinity(player_1, player_2, cos_sim):\n",
    "    \"\"\"Returns the cosine similarity between the vector embeddings\n",
    "    of <player_1> and <player_2>.\n",
    "    \n",
    "    Arguments:\n",
    "    player_1, player_2 -- names of player 1 and 2\n",
    "    cos_sim -- cosine similarity matrix\n",
    "    \"\"\"\n",
    "    id_1 = all_players.index(player_1)\n",
    "    id_2 = all_players.index(player_2)\n",
    "    \n",
    "    return cos_sim[id_1, id_2]"
   ]
  },
  {
   "cell_type": "code",
   "execution_count": 44,
   "metadata": {},
   "outputs": [
    {
     "data": {
      "text/plain": [
       "-0.15034693"
      ]
     },
     "execution_count": 44,
     "metadata": {},
     "output_type": "execute_result"
    }
   ],
   "source": [
    "get_affinity('Lauren Kelly', 'Taylor Woods', cos_sim)"
   ]
  },
  {
   "cell_type": "code",
   "execution_count": 45,
   "metadata": {},
   "outputs": [
    {
     "data": {
      "text/html": [
       "<div>\n",
       "<style scoped>\n",
       "    .dataframe tbody tr th:only-of-type {\n",
       "        vertical-align: middle;\n",
       "    }\n",
       "\n",
       "    .dataframe tbody tr th {\n",
       "        vertical-align: top;\n",
       "    }\n",
       "\n",
       "    .dataframe thead th {\n",
       "        text-align: right;\n",
       "    }\n",
       "</style>\n",
       "<table border=\"1\" class=\"dataframe\">\n",
       "  <thead>\n",
       "    <tr style=\"text-align: right;\">\n",
       "      <th></th>\n",
       "      <th>Name</th>\n",
       "      <th>Affinity</th>\n",
       "    </tr>\n",
       "  </thead>\n",
       "  <tbody>\n",
       "    <tr>\n",
       "      <th>1</th>\n",
       "      <td>McKenna Brand</td>\n",
       "      <td>1.000000</td>\n",
       "    </tr>\n",
       "    <tr>\n",
       "      <th>86</th>\n",
       "      <td>Jayne Lewis</td>\n",
       "      <td>0.425659</td>\n",
       "    </tr>\n",
       "    <tr>\n",
       "      <th>52</th>\n",
       "      <td>Katelynn Russ</td>\n",
       "      <td>0.365807</td>\n",
       "    </tr>\n",
       "    <tr>\n",
       "      <th>100</th>\n",
       "      <td>Taytum Clairmont</td>\n",
       "      <td>0.361523</td>\n",
       "    </tr>\n",
       "    <tr>\n",
       "      <th>88</th>\n",
       "      <td>Breanne Wilson-Bennett</td>\n",
       "      <td>0.349841</td>\n",
       "    </tr>\n",
       "    <tr>\n",
       "      <th>...</th>\n",
       "      <td>...</td>\n",
       "      <td>...</td>\n",
       "    </tr>\n",
       "    <tr>\n",
       "      <th>51</th>\n",
       "      <td>Dominique Kremer</td>\n",
       "      <td>-0.343545</td>\n",
       "    </tr>\n",
       "    <tr>\n",
       "      <th>73</th>\n",
       "      <td>Cassidy MacPherson</td>\n",
       "      <td>-0.347436</td>\n",
       "    </tr>\n",
       "    <tr>\n",
       "      <th>64</th>\n",
       "      <td>Kaycie Anderson</td>\n",
       "      <td>-0.376530</td>\n",
       "    </tr>\n",
       "    <tr>\n",
       "      <th>118</th>\n",
       "      <td>Laurel Hill</td>\n",
       "      <td>-0.456280</td>\n",
       "    </tr>\n",
       "    <tr>\n",
       "      <th>85</th>\n",
       "      <td>Kelly Babstock</td>\n",
       "      <td>-0.494591</td>\n",
       "    </tr>\n",
       "  </tbody>\n",
       "</table>\n",
       "<p>126 rows × 2 columns</p>\n",
       "</div>"
      ],
      "text/plain": [
       "                       Name  Affinity\n",
       "1             McKenna Brand  1.000000\n",
       "86              Jayne Lewis  0.425659\n",
       "52            Katelynn Russ  0.365807\n",
       "100        Taytum Clairmont  0.361523\n",
       "88   Breanne Wilson-Bennett  0.349841\n",
       "..                      ...       ...\n",
       "51         Dominique Kremer -0.343545\n",
       "73       Cassidy MacPherson -0.347436\n",
       "64          Kaycie Anderson -0.376530\n",
       "118             Laurel Hill -0.456280\n",
       "85           Kelly Babstock -0.494591\n",
       "\n",
       "[126 rows x 2 columns]"
      ]
     },
     "execution_count": 45,
     "metadata": {},
     "output_type": "execute_result"
    }
   ],
   "source": [
    "affs = []\n",
    "names = []\n",
    "for i in all_players:\n",
    "    a = get_affinity('McKenna Brand', i, cos_sim)\n",
    "    affs.append(a)\n",
    "    names.append(i)\n",
    "pd.DataFrame({'Name': names, 'Affinity': affs}).sort_values('Affinity', ascending=False)"
   ]
  },
  {
   "cell_type": "code",
   "execution_count": 46,
   "metadata": {},
   "outputs": [],
   "source": [
    "def analogy(a, b, c):\n",
    "    \"\"\"a is to b as c is to x\n",
    "    \"\"\"\n",
    "\n",
    "    a_vec = embs[all_players.index(a),:]\n",
    "    b_vec = embs[all_players.index(b),:]\n",
    "    c_vec = embs[all_players.index(c),:]\n",
    "    \n",
    "    diffs = []\n",
    "    players = []\n",
    "    for player in all_players:\n",
    "        x_vec = embs[all_players.index(player),:]\n",
    "        diff = np.sum((b_vec - a_vec + c_vec - x_vec)**2)\n",
    "        diffs.append(diff)\n",
    "        players.append(player)\n",
    "\n",
    "    return pd.DataFrame({'diff': diffs, 'player': players}).sort_values('diff')"
   ]
  },
  {
   "cell_type": "code",
   "execution_count": 47,
   "metadata": {},
   "outputs": [
    {
     "data": {
      "text/html": [
       "<div>\n",
       "<style scoped>\n",
       "    .dataframe tbody tr th:only-of-type {\n",
       "        vertical-align: middle;\n",
       "    }\n",
       "\n",
       "    .dataframe tbody tr th {\n",
       "        vertical-align: top;\n",
       "    }\n",
       "\n",
       "    .dataframe thead th {\n",
       "        text-align: right;\n",
       "    }\n",
       "</style>\n",
       "<table border=\"1\" class=\"dataframe\">\n",
       "  <thead>\n",
       "    <tr style=\"text-align: right;\">\n",
       "      <th></th>\n",
       "      <th>diff</th>\n",
       "      <th>player</th>\n",
       "    </tr>\n",
       "  </thead>\n",
       "  <tbody>\n",
       "    <tr>\n",
       "      <th>18</th>\n",
       "      <td>0.606747</td>\n",
       "      <td>Lauren Kelly</td>\n",
       "    </tr>\n",
       "    <tr>\n",
       "      <th>72</th>\n",
       "      <td>0.639996</td>\n",
       "      <td>Brittany Colton</td>\n",
       "    </tr>\n",
       "    <tr>\n",
       "      <th>85</th>\n",
       "      <td>0.649190</td>\n",
       "      <td>Kelly Babstock</td>\n",
       "    </tr>\n",
       "    <tr>\n",
       "      <th>58</th>\n",
       "      <td>0.763308</td>\n",
       "      <td>Kayla Meneghin</td>\n",
       "    </tr>\n",
       "    <tr>\n",
       "      <th>9</th>\n",
       "      <td>0.784061</td>\n",
       "      <td>Kaleigh Fratkin</td>\n",
       "    </tr>\n",
       "    <tr>\n",
       "      <th>...</th>\n",
       "      <td>...</td>\n",
       "      <td>...</td>\n",
       "    </tr>\n",
       "    <tr>\n",
       "      <th>123</th>\n",
       "      <td>4.908947</td>\n",
       "      <td>Maeve Reilly</td>\n",
       "    </tr>\n",
       "    <tr>\n",
       "      <th>77</th>\n",
       "      <td>5.147970</td>\n",
       "      <td>Sonjia Shelly</td>\n",
       "    </tr>\n",
       "    <tr>\n",
       "      <th>116</th>\n",
       "      <td>5.251658</td>\n",
       "      <td>Samantha Ridgewell</td>\n",
       "    </tr>\n",
       "    <tr>\n",
       "      <th>115</th>\n",
       "      <td>5.512016</td>\n",
       "      <td>Tera Hofmann</td>\n",
       "    </tr>\n",
       "    <tr>\n",
       "      <th>113</th>\n",
       "      <td>5.931396</td>\n",
       "      <td>Victoria Hanson</td>\n",
       "    </tr>\n",
       "  </tbody>\n",
       "</table>\n",
       "<p>126 rows × 2 columns</p>\n",
       "</div>"
      ],
      "text/plain": [
       "         diff              player\n",
       "18   0.606747        Lauren Kelly\n",
       "72   0.639996     Brittany Colton\n",
       "85   0.649190      Kelly Babstock\n",
       "58   0.763308      Kayla Meneghin\n",
       "9    0.784061     Kaleigh Fratkin\n",
       "..        ...                 ...\n",
       "123  4.908947        Maeve Reilly\n",
       "77   5.147970       Sonjia Shelly\n",
       "116  5.251658  Samantha Ridgewell\n",
       "115  5.512016        Tera Hofmann\n",
       "113  5.931396     Victoria Hanson\n",
       "\n",
       "[126 rows x 2 columns]"
      ]
     },
     "execution_count": 47,
     "metadata": {},
     "output_type": "execute_result"
    }
   ],
   "source": [
    "analogy('Paige Capistran', 'Lauren Kelly', 'Kaleigh Fratkin').sort_values('diff')"
   ]
  }
 ],
 "metadata": {
  "kernelspec": {
   "display_name": "Python 3",
   "language": "python",
   "name": "python3"
  },
  "language_info": {
   "codemirror_mode": {
    "name": "ipython",
    "version": 3
   },
   "file_extension": ".py",
   "mimetype": "text/x-python",
   "name": "python",
   "nbconvert_exporter": "python",
   "pygments_lexer": "ipython3",
   "version": "3.8.5"
  }
 },
 "nbformat": 4,
 "nbformat_minor": 4
}
